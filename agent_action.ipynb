{
 "cells": [
  {
   "cell_type": "code",
   "execution_count": 19,
   "metadata": {},
   "outputs": [],
   "source": [
    "import numpy as np\n",
    "import pandas as pd\n",
    "import yfinance as yf\n",
    "from stable_baselines3 import PPO\n",
    "from enum import Enum\n",
    "from sklearn.preprocessing import MinMaxScaler\n",
    "from finta import TA"
   ]
  },
  {
   "cell_type": "code",
   "execution_count": 20,
   "metadata": {},
   "outputs": [],
   "source": [
    "model = PPO.load('saved_models/best_model_800000_LSTM4.zip')"
   ]
  },
  {
   "cell_type": "code",
   "execution_count": 21,
   "metadata": {},
   "outputs": [],
   "source": [
    "class Positions(int, Enum):\n",
    "    SHORT = 0\n",
    "    LONG = 1\n",
    "    HOLD = 2\n",
    "    TAKE = 3"
   ]
  },
  {
   "cell_type": "code",
   "execution_count": 22,
   "metadata": {},
   "outputs": [],
   "source": [
    "def getTickerData(ticker, period, interval):\n",
    "    hist = yf.download(tickers=ticker, period=period, interval=interval)\n",
    "    df = pd.DataFrame(hist)\n",
    "    df = df.reset_index()\n",
    "    return df"
   ]
  },
  {
   "cell_type": "code",
   "execution_count": 23,
   "metadata": {},
   "outputs": [],
   "source": [
    "def calculate_percentage_increase(final_value, starting_value):\n",
    "    try:\n",
    "        return 100 * ((final_value - starting_value) / starting_value)\n",
    "    except:\n",
    "        print(final_value, starting_value)"
   ]
  },
  {
   "cell_type": "code",
   "execution_count": 24,
   "metadata": {},
   "outputs": [],
   "source": [
    "def supertrend_indicator(df, atr_period, multiplier):\n",
    "    \n",
    "    high = df['high']\n",
    "    low = df['low']\n",
    "    close = df['close']\n",
    "    \n",
    "    price_diffs = [high - low, \n",
    "                   high - close.shift(), \n",
    "                   close.shift() - low]\n",
    "    true_range = pd.concat(price_diffs, axis=1)\n",
    "    true_range = true_range.abs().max(axis=1)\n",
    "    atr = true_range.ewm(alpha=1/atr_period,min_periods=atr_period).mean() \n",
    "    hl2 = (high + low) / 2\n",
    "    final_upperband = upperband = hl2 + (multiplier * atr)\n",
    "    final_lowerband = lowerband = hl2 - (multiplier * atr)\n",
    "    \n",
    "    supertrend = [True] * len(df)\n",
    "    \n",
    "    for i in range(1, len(df.index)):\n",
    "        curr, prev = i, i-1\n",
    "        \n",
    "        if close[curr] > final_upperband[prev]:\n",
    "            supertrend[curr] = True\n",
    "        elif close[curr] < final_lowerband[prev]:\n",
    "            supertrend[curr] = False\n",
    "        else:\n",
    "            supertrend[curr] = supertrend[prev]\n",
    "\n",
    "            if supertrend[curr] == True and final_lowerband[curr] < final_lowerband[prev]:\n",
    "                final_lowerband[curr] = final_lowerband[prev]\n",
    "            if supertrend[curr] == False and final_upperband[curr] > final_upperband[prev]:\n",
    "                final_upperband[curr] = final_upperband[prev]\n",
    "\n",
    "        if supertrend[curr] == True:\n",
    "            final_upperband[curr] = np.nan\n",
    "        else:\n",
    "            final_lowerband[curr] = np.nan\n",
    "    \n",
    "    return final_lowerband, final_upperband"
   ]
  },
  {
   "cell_type": "code",
   "execution_count": 25,
   "metadata": {},
   "outputs": [],
   "source": [
    "def rsi_indicator(df):\n",
    "    rsi = TA.RSI(df[['open', 'high', 'low', 'close']], 14)\n",
    "\n",
    "    signals = []\n",
    "    for i in range(0, len(rsi)):\n",
    "        if rsi[i] > 60: # Default value: 70\n",
    "            signals.append(Positions.SHORT)\n",
    "        elif rsi[i] < 40: # Default value: 30\n",
    "            signals.append(Positions.LONG)\n",
    "        else:\n",
    "            signals.append(Positions.HOLD)\n",
    "        \n",
    "    buy_signal = [True if signals[n]==1 else False for n in range(0, len(signals))]\n",
    "    sell_signal = [True if signals[n]==-1 else False for n in range(0, len(signals))]\n",
    "    \n",
    "    return signals, buy_signal, sell_signal"
   ]
  },
  {
   "cell_type": "code",
   "execution_count": 26,
   "metadata": {},
   "outputs": [],
   "source": [
    "def swing_detection(index, df):\n",
    "    sh = []\n",
    "    sl = []\n",
    "    start = (index*2) - 1\n",
    "    for i in range(index-1):\n",
    "        sh.append(False)\n",
    "        sl.append(False)\n",
    "    for ci, row in df.iterrows():\n",
    "        \n",
    "        swing_high = False\n",
    "        swing_low = False\n",
    "        \n",
    "        if ci < start:\n",
    "            continue\n",
    "        \n",
    "        swing_point_high = df['high'][ci - index]\n",
    "        swing_point_low = df['low'][ci - index]\n",
    "        \n",
    "        for i in range(0, start):\n",
    "            swing_high = True\n",
    "            if i < index:\n",
    "                if df['high'][ci - i] > swing_point_high:\n",
    "                    swing_high = False\n",
    "                    break\n",
    "            if i > index:\n",
    "                if df['high'][ci - i] >= swing_point_high:\n",
    "                    swing_high = False\n",
    "                    break\n",
    "            \n",
    "        for i in range(0, start):\n",
    "            swing_low = True\n",
    "            if i < index:\n",
    "                if df.low[ci - i] < swing_point_low: \n",
    "                    swing_low = False\n",
    "                    break  \n",
    "            if i > index:\n",
    "                if df.low[ci - i] <= swing_point_low: \n",
    "                    swing_low = False\n",
    "                    break \n",
    "            \n",
    "        sh.append(swing_high)\n",
    "        sl.append(swing_low)\n",
    "        \n",
    "    for i in range(index):\n",
    "        sh.append(False)\n",
    "        sl.append(False)\n",
    "        \n",
    "    current_sh = 0\n",
    "    current_sl = 0\n",
    "    sh_nums = []\n",
    "    sl_nums = []\n",
    "    for i, row in df.iterrows():\n",
    "        if sh[i] == True:\n",
    "            current_sh = df.high[i]\n",
    "        if sl[i] == True:\n",
    "            current_sl = df.low[i]\n",
    "        sh_nums.append(current_sh)\n",
    "        sl_nums.append(current_sl)\n",
    "    return sh, sl, sh_nums, sl_nums"
   ]
  },
  {
   "cell_type": "code",
   "execution_count": 27,
   "metadata": {},
   "outputs": [],
   "source": [
    "def money_flow_index_indicator(df, period=14):\n",
    "    # Calculate typical price (TP) for each period\n",
    "    df['TP'] = (df['high'] + df['low'] + df['close']) / 3\n",
    "\n",
    "    # Calculate raw money flow (RMF) for each period\n",
    "    df['RMF'] = df['TP'] * df['volume']\n",
    "\n",
    "    # Calculate positive and negative money flow\n",
    "    df['PMF'] = 0.0\n",
    "    df['NMF'] = 0.0\n",
    "\n",
    "    for i in range(1, len(df)):\n",
    "        if df.at[i, 'TP'] > df.at[i - 1, 'TP']:\n",
    "            df.at[i, 'PMF'] = df.at[i, 'TP'] * df.at[i, 'volume']\n",
    "        elif df.at[i, 'TP'] < df.at[i - 1, 'TP']:\n",
    "            df.at[i, 'NMF'] = df.at[i, 'TP'] * df.at[i, 'volume']\n",
    "\n",
    "    # Calculate money flow ratio (MFR)\n",
    "    df['MFR'] = df['PMF'].rolling(window=period).sum() / df['NMF'].rolling(window=period).sum()\n",
    "\n",
    "    # Calculate Money Flow Index (MFI)\n",
    "    df['MFI'] = 100 - (100 / (1 + df['MFR']))\n",
    "\n",
    "    # Remove temporary columns\n",
    "    df.drop(['TP', 'RMF', 'PMF', 'NMF', 'MFR'], axis=1, inplace=True)\n",
    "\n",
    "    return df['MFI'].values"
   ]
  },
  {
   "cell_type": "code",
   "execution_count": 28,
   "metadata": {},
   "outputs": [],
   "source": [
    "def produce_prediction(df, window):  \n",
    "    prediction = (df.shift(window)['close'] <= df['close'])\n",
    "    \n",
    "    return prediction.astype(int)"
   ]
  },
  {
   "cell_type": "code",
   "execution_count": 29,
   "metadata": {},
   "outputs": [],
   "source": [
    "def preprocess_data(df):\n",
    "    scaler = MinMaxScaler()\n",
    "    \n",
    "    mfi_indicator = money_flow_index_indicator(df)\n",
    "    close_b = produce_prediction(df, 1)\n",
    "    rsi_signals, _, _ = rsi_indicator(df)\n",
    "    sh, sl, sh_nums, sl_nums = swing_detection(5, df)    \n",
    "    final_lowerband, final_upperband = supertrend_indicator(df, 10, 3)\n",
    "    fu_modified = [Positions.LONG if not np.isnan(lowerband) else Positions.SHORT for lowerband in final_lowerband]\n",
    "\n",
    "    df['close_binary'] = close_b\n",
    "    df['mfi'] = mfi_indicator\n",
    "    df['sh_nums'] = sh_nums\n",
    "    df['sl_nums'] = sl_nums\n",
    "    df['supertrend'] = fu_modified\n",
    "    df['rsi_signals'] = rsi_signals\n",
    "    \n",
    "    df = df.drop(columns={\"volume\", \"Adj Close\", \"open\", \"high\", \"low\", \"date\", 'MFI'})\n",
    "    df = df.dropna()\n",
    "    \n",
    "    df[['mfi']] = scaler.fit_transform(df[['mfi']])\n",
    "    \n",
    "    return df"
   ]
  },
  {
   "cell_type": "code",
   "execution_count": 30,
   "metadata": {},
   "outputs": [
    {
     "name": "stdout",
     "output_type": "stream",
     "text": [
      "[*********************100%***********************]  1 of 1 completed\n"
     ]
    }
   ],
   "source": [
    "df = getTickerData('btc-usd', 'max', '1d')\n",
    "df = df.rename(columns={'Close': 'close', 'Open': 'open', 'High': 'high', 'Low': 'low', 'Volume': 'volume', 'Datetime': 'date', 'Date': 'date'})\n",
    "df = preprocess_data(df)\n",
    "df = df[0:df.shape[0]-1]"
   ]
  },
  {
   "cell_type": "code",
   "execution_count": 31,
   "metadata": {},
   "outputs": [
    {
     "name": "stdout",
     "output_type": "stream",
     "text": [
      "position_to_take: BUY\n"
     ]
    }
   ],
   "source": [
    "# getting prediction for current market data\n",
    "prediction = model.predict(df[['mfi', 'close_binary', 'supertrend', 'rsi_signals']].tail(89))[0]\n",
    "position_to_take = 'hold'\n",
    "if prediction == Positions.LONG:\n",
    "    position_to_take = 'BUY'\n",
    "elif prediction == Positions.SHORT:\n",
    "    position_to_take = 'SELL'\n",
    "print('position_to_take:', position_to_take)"
   ]
  }
 ],
 "metadata": {
  "kernelspec": {
   "display_name": "Python 3",
   "language": "python",
   "name": "python3"
  },
  "language_info": {
   "codemirror_mode": {
    "name": "ipython",
    "version": 3
   },
   "file_extension": ".py",
   "mimetype": "text/x-python",
   "name": "python",
   "nbconvert_exporter": "python",
   "pygments_lexer": "ipython3",
   "version": "3.10.10"
  },
  "orig_nbformat": 4
 },
 "nbformat": 4,
 "nbformat_minor": 2
}
