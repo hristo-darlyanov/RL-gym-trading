{
 "cells": [
  {
   "cell_type": "code",
   "execution_count": 1,
   "metadata": {},
   "outputs": [],
   "source": [
    "import os\n",
    "import numpy as np\n",
    "import pandas as pd\n",
    "import yfinance as yf\n",
    "import matplotlib.pyplot as plt\n",
    "from stable_baselines3 import PPO\n",
    "from enum import Enum\n",
    "import talib\n",
    "from sklearn.preprocessing import MinMaxScaler\n",
    "from datetime import datetime\n",
    "import time\n",
    "import hmac\n",
    "import hashlib\n",
    "import requests\n",
    "import numpy\n",
    "import json\n",
    "\n",
    "import firebase_admin\n",
    "from firebase_admin import credentials, firestore\n",
    "from google.cloud.firestore_v1.base_query import FieldFilter"
   ]
  },
  {
   "cell_type": "code",
   "execution_count": 2,
   "metadata": {},
   "outputs": [],
   "source": [
    "model = PPO.load('saved_models/best_model_800000_LSTM4.zip')"
   ]
  },
  {
   "cell_type": "code",
   "execution_count": 3,
   "metadata": {},
   "outputs": [],
   "source": [
    "class Positions(int, Enum):\n",
    "    SHORT = 0\n",
    "    LONG = 1\n",
    "    HOLD = 2\n",
    "    TAKE = 3"
   ]
  },
  {
   "cell_type": "code",
   "execution_count": 4,
   "metadata": {},
   "outputs": [],
   "source": [
    "def getTickerData(ticker, period, interval):\n",
    "    hist = yf.download(tickers=ticker, period=period, interval=interval)\n",
    "    df = pd.DataFrame(hist)\n",
    "    df = df.reset_index()\n",
    "    return df"
   ]
  },
  {
   "cell_type": "code",
   "execution_count": 5,
   "metadata": {},
   "outputs": [],
   "source": [
    "def calculate_percentage_increase(final_value, starting_value):\n",
    "    try:\n",
    "        return 100 * ((final_value - starting_value) / starting_value)\n",
    "    except:\n",
    "        print(final_value, starting_value)"
   ]
  },
  {
   "cell_type": "code",
   "execution_count": 6,
   "metadata": {},
   "outputs": [],
   "source": [
    "def supertrend_indicator(df, atr_period, multiplier):\n",
    "    \n",
    "    high = df['high']\n",
    "    low = df['low']\n",
    "    close = df['close']\n",
    "    \n",
    "    price_diffs = [high - low, \n",
    "                   high - close.shift(), \n",
    "                   close.shift() - low]\n",
    "    true_range = pd.concat(price_diffs, axis=1)\n",
    "    true_range = true_range.abs().max(axis=1)\n",
    "    atr = true_range.ewm(alpha=1/atr_period,min_periods=atr_period).mean() \n",
    "    hl2 = (high + low) / 2\n",
    "    final_upperband = upperband = hl2 + (multiplier * atr)\n",
    "    final_lowerband = lowerband = hl2 - (multiplier * atr)\n",
    "    \n",
    "    supertrend = [True] * len(df)\n",
    "    \n",
    "    for i in range(1, len(df.index)):\n",
    "        curr, prev = i, i-1\n",
    "        \n",
    "        if close[curr] > final_upperband[prev]:\n",
    "            supertrend[curr] = True\n",
    "        elif close[curr] < final_lowerband[prev]:\n",
    "            supertrend[curr] = False\n",
    "        else:\n",
    "            supertrend[curr] = supertrend[prev]\n",
    "\n",
    "            if supertrend[curr] == True and final_lowerband[curr] < final_lowerband[prev]:\n",
    "                final_lowerband[curr] = final_lowerband[prev]\n",
    "            if supertrend[curr] == False and final_upperband[curr] > final_upperband[prev]:\n",
    "                final_upperband[curr] = final_upperband[prev]\n",
    "\n",
    "        if supertrend[curr] == True:\n",
    "            final_upperband[curr] = np.nan\n",
    "        else:\n",
    "            final_lowerband[curr] = np.nan\n",
    "    \n",
    "    return final_lowerband, final_upperband"
   ]
  },
  {
   "cell_type": "code",
   "execution_count": 7,
   "metadata": {},
   "outputs": [],
   "source": [
    "def rsi_indicator(df):\n",
    "    rsi = talib.RSI(df.close, 14)\n",
    "\n",
    "    signals = []\n",
    "    for i in range(0, len(rsi)):\n",
    "        if rsi[i] > 60: # Default value: 70\n",
    "            signals.append(Positions.SHORT)\n",
    "        elif rsi[i] < 40: # Default value: 30\n",
    "            signals.append(Positions.LONG)\n",
    "        else:\n",
    "            signals.append(Positions.HOLD)\n",
    "        \n",
    "    buy_signal = [True if signals[n]==1 else False for n in range(0, len(signals))]\n",
    "    sell_signal = [True if signals[n]==-1 else False for n in range(0, len(signals))]\n",
    "    \n",
    "    return signals, buy_signal, sell_signal"
   ]
  },
  {
   "cell_type": "code",
   "execution_count": 8,
   "metadata": {},
   "outputs": [],
   "source": [
    "def swing_detection(index, df):\n",
    "    sh = []\n",
    "    sl = []\n",
    "    start = (index*2) - 1\n",
    "    for i in range(index-1):\n",
    "        sh.append(False)\n",
    "        sl.append(False)\n",
    "    for ci, row in df.iterrows():\n",
    "        \n",
    "        swing_high = False\n",
    "        swing_low = False\n",
    "        \n",
    "        if ci < start:\n",
    "            continue\n",
    "        \n",
    "        swing_point_high = df['high'][ci - index]\n",
    "        swing_point_low = df['low'][ci - index]\n",
    "        \n",
    "        for i in range(0, start):\n",
    "            swing_high = True\n",
    "            if i < index:\n",
    "                if df['high'][ci - i] > swing_point_high:\n",
    "                    swing_high = False\n",
    "                    break\n",
    "            if i > index:\n",
    "                if df['high'][ci - i] >= swing_point_high:\n",
    "                    swing_high = False\n",
    "                    break\n",
    "            \n",
    "        for i in range(0, start):\n",
    "            swing_low = True\n",
    "            if i < index:\n",
    "                if df.low[ci - i] < swing_point_low: \n",
    "                    swing_low = False\n",
    "                    break  \n",
    "            if i > index:\n",
    "                if df.low[ci - i] <= swing_point_low: \n",
    "                    swing_low = False\n",
    "                    break \n",
    "            \n",
    "        sh.append(swing_high)\n",
    "        sl.append(swing_low)\n",
    "        \n",
    "    for i in range(index):\n",
    "        sh.append(False)\n",
    "        sl.append(False)\n",
    "        \n",
    "    current_sh = 0\n",
    "    current_sl = 0\n",
    "    sh_nums = []\n",
    "    sl_nums = []\n",
    "    for i, row in df.iterrows():\n",
    "        if sh[i] == True:\n",
    "            current_sh = df.high[i]\n",
    "        if sl[i] == True:\n",
    "            current_sl = df.low[i]\n",
    "        sh_nums.append(current_sh)\n",
    "        sl_nums.append(current_sl)\n",
    "    return sh, sl, sh_nums, sl_nums"
   ]
  },
  {
   "cell_type": "code",
   "execution_count": 9,
   "metadata": {},
   "outputs": [],
   "source": [
    "def produce_prediction(df, window):  \n",
    "    prediction = (df.shift(window)['close'] <= df['close'])\n",
    "    \n",
    "    return prediction.astype(int)"
   ]
  },
  {
   "cell_type": "code",
   "execution_count": 10,
   "metadata": {},
   "outputs": [],
   "source": [
    "def preprocess_data(df):\n",
    "    scaler = MinMaxScaler()\n",
    "    \n",
    "    mfi_indicator = talib.MFI(df['high'], df['low'], df['close'], df['volume'])\n",
    "    close_b = produce_prediction(df, 1)\n",
    "    rsi_signals, _, _ = rsi_indicator(df)\n",
    "    sh, sl, sh_nums, sl_nums = swing_detection(5, df)    \n",
    "    final_lowerband, final_upperband = supertrend_indicator(df, 10, 3)\n",
    "    fu_modified = [Positions.LONG if not np.isnan(lowerband) else Positions.SHORT for lowerband in final_lowerband]\n",
    "\n",
    "    df['close_binary'] = close_b\n",
    "    df['mfi'] = mfi_indicator\n",
    "    df['sh_nums'] = sh_nums\n",
    "    df['sl_nums'] = sl_nums\n",
    "    df['supertrend'] = fu_modified\n",
    "    df['rsi_signals'] = rsi_signals\n",
    "    \n",
    "    df = df.drop(columns={\"volume\", \"Adj Close\", \"open\", \"high\", \"low\", \"date\"})\n",
    "    df = df.dropna()\n",
    "    \n",
    "    df[['mfi']] = scaler.fit_transform(df[['mfi']])\n",
    "    \n",
    "    return df"
   ]
  },
  {
   "cell_type": "code",
   "execution_count": 27,
   "metadata": {},
   "outputs": [
    {
     "name": "stdout",
     "output_type": "stream",
     "text": [
      "[*********************100%***********************]  1 of 1 completed\n"
     ]
    }
   ],
   "source": [
    "df = getTickerData('btc-usd', 'max', '1d')\n",
    "df = df.rename(columns={'Close': 'close', 'Open': 'open', 'High': 'high', 'Low': 'low', 'Volume': 'volume', 'Datetime': 'date', 'Date': 'date'})\n",
    "df = preprocess_data(df)\n",
    "df = df[0:df.shape[0]-1]"
   ]
  },
  {
   "cell_type": "code",
   "execution_count": 12,
   "metadata": {},
   "outputs": [
    {
     "data": {
      "text/plain": [
       "<firebase_admin.App at 0x1b861db9900>"
      ]
     },
     "execution_count": 12,
     "metadata": {},
     "output_type": "execute_result"
    }
   ],
   "source": [
    "cred = credentials.Certificate(\"serviceAccountKey.json\")\n",
    "firebase_admin.initialize_app(cred)"
   ]
  },
  {
   "cell_type": "code",
   "execution_count": 13,
   "metadata": {},
   "outputs": [],
   "source": [
    "db = firestore.client()"
   ]
  },
  {
   "cell_type": "code",
   "execution_count": 14,
   "metadata": {},
   "outputs": [],
   "source": [
    "# getting info from database\n",
    "docs = db.collection(\"agents\").where(filter=FieldFilter(\"position\", \"==\", 'hold')).stream()\n",
    "agents = []\n",
    "\n",
    "for doc in docs:\n",
    "    agents.append(doc.to_dict())"
   ]
  },
  {
   "cell_type": "code",
   "execution_count": 28,
   "metadata": {},
   "outputs": [],
   "source": [
    "# getting prediction for current market data\n",
    "prediction = model.predict(df[['mfi', 'close_binary', 'supertrend', 'rsi_signals']].tail(89))[0]\n",
    "position_to_take = 'hold'\n",
    "if prediction == Positions.LONG:\n",
    "    position_to_take = 'BUY'\n",
    "elif prediction == Positions.SHORT:\n",
    "    position_to_take = 'SELL'"
   ]
  },
  {
   "cell_type": "code",
   "execution_count": 45,
   "metadata": {},
   "outputs": [
    {
     "name": "stdout",
     "output_type": "stream",
     "text": [
      "Is it valid to trade:  True\n"
     ]
    }
   ],
   "source": [
    "# Checking if it's valid to trade\n",
    "\n",
    "btc_last_price = df['close'].iloc[-1]\n",
    "swing_low = df['sl_nums'].iloc[-1]\n",
    "swing_high = df['sh_nums'].iloc[-1]\n",
    "is_valid_to_trade = False\n",
    "if position_to_take != 'hold':\n",
    "    is_valid_to_trade = True\n",
    "if position_to_take == 'BUY': \n",
    "    if btc_last_price > swing_low:\n",
    "        is_valid_to_trade = True\n",
    "if position_to_take == 'SELL': \n",
    "    if btc_last_price < swing_high:\n",
    "        is_valid_to_trade = True\n",
    "print(\"Is it valid to trade: \", is_valid_to_trade)"
   ]
  },
  {
   "cell_type": "code",
   "execution_count": 23,
   "metadata": {},
   "outputs": [
    {
     "name": "stdout",
     "output_type": "stream",
     "text": [
      "symbol=BTCUSDT&side=BUY&type=MARKET&quantity=0.029&timestamp=1694097822014\n",
      "{\"orderId\":3459435062,\"symbol\":\"BTCUSDT\",\"status\":\"NEW\",\"clientOrderId\":\"3UFrowqj10L2PCfja9LXDv\",\"price\":\"0.00\",\"avgPrice\":\"0.00\",\"origQty\":\"0.029\",\"executedQty\":\"0.000\",\"cumQty\":\"0.000\",\"cumQuote\":\"0.00000\",\"timeInForce\":\"GTC\",\"type\":\"MARKET\",\"reduceOnly\":false,\"closePosition\":false,\"side\":\"BUY\",\"positionSide\":\"BOTH\",\"stopPrice\":\"0.00\",\"workingType\":\"CONTRACT_PRICE\",\"priceProtect\":false,\"origType\":\"MARKET\",\"priceMatch\":\"NONE\",\"selfTradePreventionMode\":\"NONE\",\"goodTillDate\":0,\"updateTime\":1694097823677}\n"
     ]
    }
   ],
   "source": [
    "HOST_URL = 'https://testnet.binancefuture.com'\n",
    "END_POINT = '/fapi/v1/order'\n",
    "\n",
    "if is_valid_to_trade:    \n",
    "    for i, agent in enumerate(agents):\n",
    "        if agent['associatedAccountName'] == 'asd2':\n",
    "            continue\n",
    "        \n",
    "        # Setting up request info\n",
    "        api_key = agent['apiKey']\n",
    "        api_secret = agent['apiSecret']\n",
    "        amount_of_usd_to_use = agent['usdtToUse'] * (agent['percentagePerTrade'] * 0.01)\n",
    "        converted_quantity = amount_of_usd_to_use / btc_last_price\n",
    "        converted_quantity = round(float(converted_quantity.iloc[0]), 3)\n",
    "        data_query= f\"symbol=BTCUSDT&side={position_to_take}&type=MARKET&quantity={converted_quantity}&timestamp={str(time.time()).replace('.','')[0: 13]}\"\n",
    "        signed_hash_key = hmac.new(\n",
    "            bytes(api_secret, 'latin-1'),\n",
    "            msg=bytes(data_query, 'latin-1'),\n",
    "            digestmod=hashlib.sha256\n",
    "        ).hexdigest()\n",
    "        \n",
    "        data_query= data_query + f\"&signature={signed_hash_key}\"\n",
    "        url = HOST_URL + END_POINT + \"?\" + data_query\n",
    "        \n",
    "        # Sending request\n",
    "        header = {'X-MBX-APIKEY': api_key, 'signature': signed_hash_key}\n",
    "        response = requests.post(url=url, headers=header)\n",
    "        print(response.text)"
   ]
  }
 ],
 "metadata": {
  "kernelspec": {
   "display_name": "Python 3",
   "language": "python",
   "name": "python3"
  },
  "language_info": {
   "codemirror_mode": {
    "name": "ipython",
    "version": 3
   },
   "file_extension": ".py",
   "mimetype": "text/x-python",
   "name": "python",
   "nbconvert_exporter": "python",
   "pygments_lexer": "ipython3",
   "version": "3.10.10"
  },
  "orig_nbformat": 4
 },
 "nbformat": 4,
 "nbformat_minor": 2
}
