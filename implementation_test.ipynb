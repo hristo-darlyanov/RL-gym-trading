{
 "cells": [
  {
   "cell_type": "code",
   "execution_count": 25,
   "metadata": {},
   "outputs": [],
   "source": [
    "import os\n",
    "import numpy as np\n",
    "import pandas as pd\n",
    "import yfinance as yf\n",
    "import random\n",
    "import matplotlib.pyplot as plt\n",
    "from sb3_contrib import RecurrentPPO\n",
    "from enum import Enum\n",
    "import talib\n",
    "from sklearn.preprocessing import MinMaxScaler\n",
    "\n",
    "import firebase_admin\n",
    "from firebase_admin import credentials, firestore"
   ]
  },
  {
   "cell_type": "code",
   "execution_count": 13,
   "metadata": {},
   "outputs": [],
   "source": [
    "class Positions(int, Enum):\n",
    "    SHORT = 0\n",
    "    LONG = 1\n",
    "    HOLD = 2\n",
    "    TAKE = 3"
   ]
  },
  {
   "cell_type": "code",
   "execution_count": 14,
   "metadata": {},
   "outputs": [],
   "source": [
    "def getTickerData(ticker, period, interval):\n",
    "    hist = yf.download(tickers=ticker, period=period, interval=interval)\n",
    "    df = pd.DataFrame(hist)\n",
    "    df = df.reset_index()\n",
    "    return df"
   ]
  },
  {
   "cell_type": "code",
   "execution_count": 15,
   "metadata": {},
   "outputs": [],
   "source": [
    "def calculate_percentage_increase(final_value, starting_value):\n",
    "    try:\n",
    "        return 100 * ((final_value - starting_value) / starting_value)\n",
    "    except:\n",
    "        print(final_value, starting_value)"
   ]
  },
  {
   "cell_type": "code",
   "execution_count": 16,
   "metadata": {},
   "outputs": [],
   "source": [
    "def supertrend_indicator(df, atr_period, multiplier):\n",
    "    \n",
    "    high = df['high']\n",
    "    low = df['low']\n",
    "    close = df['close']\n",
    "    \n",
    "    price_diffs = [high - low, \n",
    "                   high - close.shift(), \n",
    "                   close.shift() - low]\n",
    "    true_range = pd.concat(price_diffs, axis=1)\n",
    "    true_range = true_range.abs().max(axis=1)\n",
    "    atr = true_range.ewm(alpha=1/atr_period,min_periods=atr_period).mean() \n",
    "    hl2 = (high + low) / 2\n",
    "    final_upperband = upperband = hl2 + (multiplier * atr)\n",
    "    final_lowerband = lowerband = hl2 - (multiplier * atr)\n",
    "    \n",
    "    supertrend = [True] * len(df)\n",
    "    \n",
    "    for i in range(1, len(df.index)):\n",
    "        curr, prev = i, i-1\n",
    "        \n",
    "        if close[curr] > final_upperband[prev]:\n",
    "            supertrend[curr] = True\n",
    "        elif close[curr] < final_lowerband[prev]:\n",
    "            supertrend[curr] = False\n",
    "        else:\n",
    "            supertrend[curr] = supertrend[prev]\n",
    "\n",
    "            if supertrend[curr] == True and final_lowerband[curr] < final_lowerband[prev]:\n",
    "                final_lowerband[curr] = final_lowerband[prev]\n",
    "            if supertrend[curr] == False and final_upperband[curr] > final_upperband[prev]:\n",
    "                final_upperband[curr] = final_upperband[prev]\n",
    "\n",
    "        if supertrend[curr] == True:\n",
    "            final_upperband[curr] = np.nan\n",
    "        else:\n",
    "            final_lowerband[curr] = np.nan\n",
    "    \n",
    "    return final_lowerband, final_upperband"
   ]
  },
  {
   "cell_type": "code",
   "execution_count": 17,
   "metadata": {},
   "outputs": [],
   "source": [
    "def rsi_indicator(df):\n",
    "    rsi = talib.RSI(df.close, 14)\n",
    "\n",
    "    signals = []\n",
    "    for i in range(0, len(rsi)):\n",
    "        if rsi[i] > 60: # Default value: 70\n",
    "            signals.append(Positions.SHORT)\n",
    "        elif rsi[i] < 40: # Default value: 30\n",
    "            signals.append(Positions.LONG)\n",
    "        else:\n",
    "            signals.append(Positions.HOLD)\n",
    "        \n",
    "    buy_signal = [True if signals[n]==1 else False for n in range(0, len(signals))]\n",
    "    sell_signal = [True if signals[n]==-1 else False for n in range(0, len(signals))]\n",
    "    \n",
    "    return signals, buy_signal, sell_signal"
   ]
  },
  {
   "cell_type": "code",
   "execution_count": 18,
   "metadata": {},
   "outputs": [],
   "source": [
    "def swing_detection(index, df):\n",
    "    sh = []\n",
    "    sl = []\n",
    "    start = (index*2) - 1\n",
    "    for i in range(index-1):\n",
    "        sh.append(False)\n",
    "        sl.append(False)\n",
    "    for ci, row in df.iterrows():\n",
    "        \n",
    "        swing_high = False\n",
    "        swing_low = False\n",
    "        \n",
    "        if ci < start:\n",
    "            continue\n",
    "        \n",
    "        swing_point_high = df['high'][ci - index]\n",
    "        swing_point_low = df['low'][ci - index]\n",
    "        \n",
    "        for i in range(0, start):\n",
    "            swing_high = True\n",
    "            if i < index:\n",
    "                if df['high'][ci - i] > swing_point_high:\n",
    "                    swing_high = False\n",
    "                    break\n",
    "            if i > index:\n",
    "                if df['high'][ci - i] >= swing_point_high:\n",
    "                    swing_high = False\n",
    "                    break\n",
    "            \n",
    "        for i in range(0, start):\n",
    "            swing_low = True\n",
    "            if i < index:\n",
    "                if df.low[ci - i] < swing_point_low: \n",
    "                    swing_low = False\n",
    "                    break  \n",
    "            if i > index:\n",
    "                if df.low[ci - i] <= swing_point_low: \n",
    "                    swing_low = False\n",
    "                    break \n",
    "            \n",
    "        sh.append(swing_high)\n",
    "        sl.append(swing_low)\n",
    "        \n",
    "    for i in range(index):\n",
    "        sh.append(False)\n",
    "        sl.append(False)\n",
    "        \n",
    "    current_sh = 0\n",
    "    current_sl = 0\n",
    "    sh_nums = []\n",
    "    sl_nums = []\n",
    "    for i, row in df.iterrows():\n",
    "        if sh[i] == True:\n",
    "            current_sh = df.high[i]\n",
    "        if sl[i] == True:\n",
    "            current_sl = df.low[i]\n",
    "        sh_nums.append(current_sh)\n",
    "        sl_nums.append(current_sl)\n",
    "    return sh, sl, sh_nums, sl_nums"
   ]
  },
  {
   "cell_type": "code",
   "execution_count": 19,
   "metadata": {},
   "outputs": [],
   "source": [
    "def produce_prediction(df, window):  \n",
    "    prediction = (df.shift(window)['close'] <= df['close'])\n",
    "    \n",
    "    return prediction.astype(int)"
   ]
  },
  {
   "cell_type": "code",
   "execution_count": 20,
   "metadata": {},
   "outputs": [],
   "source": [
    "def preprocess_data(df):\n",
    "    scaler = MinMaxScaler()\n",
    "    \n",
    "    mfi_indicator = talib.MFI(df['high'], df['low'], df['close'], df['volume'])\n",
    "    close_b = produce_prediction(df, 1)\n",
    "    rsi_signals, _, _ = rsi_indicator(df)\n",
    "    sh, sl, sh_nums, sl_nums = swing_detection(5, df)    \n",
    "    final_lowerband, final_upperband = supertrend_indicator(df, 10, 3)\n",
    "    fu_modified = [Positions.LONG if not np.isnan(lowerband) else Positions.SHORT for lowerband in final_lowerband]\n",
    "\n",
    "    df['close_binary'] = close_b\n",
    "    df['mfi'] = mfi_indicator\n",
    "    df['sh_nums'] = sh_nums\n",
    "    df['sl_nums'] = sl_nums\n",
    "    df['supertrend'] = fu_modified\n",
    "    df['rsi_signals'] = rsi_signals\n",
    "    \n",
    "    df = df.drop(columns={\"volume\", \"Adj Close\", \"open\", \"high\", \"low\", \"date\"})\n",
    "    df = df.dropna()\n",
    "    \n",
    "    df[['mfi']] = scaler.fit_transform(df[['mfi']])\n",
    "    \n",
    "    return df"
   ]
  },
  {
   "cell_type": "code",
   "execution_count": 21,
   "metadata": {},
   "outputs": [
    {
     "name": "stdout",
     "output_type": "stream",
     "text": [
      "[*********************100%***********************]  1 of 1 completed\n"
     ]
    }
   ],
   "source": [
    "df = getTickerData('btc-usd', 'max', '1d')\n",
    "df = df.rename(columns={'Close': 'close', 'Open': 'open', 'High': 'high', 'Low': 'low', 'Volume': 'volume', 'Datetime': 'date', 'Date': 'date'})\n",
    "df = preprocess_data(df)\n",
    "df = df[0:df.shape[0]-1]"
   ]
  },
  {
   "cell_type": "code",
   "execution_count": 26,
   "metadata": {},
   "outputs": [
    {
     "ename": "ValueError",
     "evalue": "The default Firebase app already exists. This means you called initialize_app() more than once without providing an app name as the second argument. In most cases you only need to call initialize_app() once. But if you do want to initialize multiple apps, pass a second argument to initialize_app() to give each app a unique name.",
     "output_type": "error",
     "traceback": [
      "\u001b[1;31m---------------------------------------------------------------------------\u001b[0m",
      "\u001b[1;31mValueError\u001b[0m                                Traceback (most recent call last)",
      "Cell \u001b[1;32mIn[26], line 2\u001b[0m\n\u001b[0;32m      1\u001b[0m cred \u001b[39m=\u001b[39m credentials\u001b[39m.\u001b[39mCertificate(\u001b[39m\"\u001b[39m\u001b[39mserviceAccountKey.json\u001b[39m\u001b[39m\"\u001b[39m)\n\u001b[1;32m----> 2\u001b[0m firebase_admin\u001b[39m.\u001b[39;49minitialize_app(cred)\n\u001b[0;32m      3\u001b[0m db \u001b[39m=\u001b[39m firestore\u001b[39m.\u001b[39mclient()\n",
      "File \u001b[1;32mc:\\Users\\damem\\AppData\\Local\\Programs\\Python\\Python310\\lib\\site-packages\\firebase_admin\\__init__.py:71\u001b[0m, in \u001b[0;36minitialize_app\u001b[1;34m(credential, options, name)\u001b[0m\n\u001b[0;32m     68\u001b[0m         \u001b[39mreturn\u001b[39;00m app\n\u001b[0;32m     70\u001b[0m \u001b[39mif\u001b[39;00m name \u001b[39m==\u001b[39m _DEFAULT_APP_NAME:\n\u001b[1;32m---> 71\u001b[0m     \u001b[39mraise\u001b[39;00m \u001b[39mValueError\u001b[39;00m((\n\u001b[0;32m     72\u001b[0m         \u001b[39m'\u001b[39m\u001b[39mThe default Firebase app already exists. This means you called \u001b[39m\u001b[39m'\u001b[39m\n\u001b[0;32m     73\u001b[0m         \u001b[39m'\u001b[39m\u001b[39minitialize_app() more than once without providing an app name as \u001b[39m\u001b[39m'\u001b[39m\n\u001b[0;32m     74\u001b[0m         \u001b[39m'\u001b[39m\u001b[39mthe second argument. In most cases you only need to call \u001b[39m\u001b[39m'\u001b[39m\n\u001b[0;32m     75\u001b[0m         \u001b[39m'\u001b[39m\u001b[39minitialize_app() once. But if you do want to initialize multiple \u001b[39m\u001b[39m'\u001b[39m\n\u001b[0;32m     76\u001b[0m         \u001b[39m'\u001b[39m\u001b[39mapps, pass a second argument to initialize_app() to give each app \u001b[39m\u001b[39m'\u001b[39m\n\u001b[0;32m     77\u001b[0m         \u001b[39m'\u001b[39m\u001b[39ma unique name.\u001b[39m\u001b[39m'\u001b[39m))\n\u001b[0;32m     79\u001b[0m \u001b[39mraise\u001b[39;00m \u001b[39mValueError\u001b[39;00m((\n\u001b[0;32m     80\u001b[0m     \u001b[39m'\u001b[39m\u001b[39mFirebase app named \u001b[39m\u001b[39m\"\u001b[39m\u001b[39m{0}\u001b[39;00m\u001b[39m\"\u001b[39m\u001b[39m already exists. This means you called \u001b[39m\u001b[39m'\u001b[39m\n\u001b[0;32m     81\u001b[0m     \u001b[39m'\u001b[39m\u001b[39minitialize_app() more than once with the same app name as the \u001b[39m\u001b[39m'\u001b[39m\n\u001b[0;32m     82\u001b[0m     \u001b[39m'\u001b[39m\u001b[39msecond argument. Make sure you provide a unique name every time \u001b[39m\u001b[39m'\u001b[39m\n\u001b[0;32m     83\u001b[0m     \u001b[39m'\u001b[39m\u001b[39myou call initialize_app().\u001b[39m\u001b[39m'\u001b[39m)\u001b[39m.\u001b[39mformat(name))\n",
      "\u001b[1;31mValueError\u001b[0m: The default Firebase app already exists. This means you called initialize_app() more than once without providing an app name as the second argument. In most cases you only need to call initialize_app() once. But if you do want to initialize multiple apps, pass a second argument to initialize_app() to give each app a unique name."
     ]
    }
   ],
   "source": [
    "cred = credentials.Certificate(\"serviceAccountKey.json\")\n",
    "firebase_admin.initialize_app(cred)"
   ]
  },
  {
   "cell_type": "code",
   "execution_count": 27,
   "metadata": {},
   "outputs": [],
   "source": [
    "db = firestore.client()"
   ]
  }
 ],
 "metadata": {
  "kernelspec": {
   "display_name": "Python 3",
   "language": "python",
   "name": "python3"
  },
  "language_info": {
   "codemirror_mode": {
    "name": "ipython",
    "version": 3
   },
   "file_extension": ".py",
   "mimetype": "text/x-python",
   "name": "python",
   "nbconvert_exporter": "python",
   "pygments_lexer": "ipython3",
   "version": "3.10.10"
  },
  "orig_nbformat": 4
 },
 "nbformat": 4,
 "nbformat_minor": 2
}
