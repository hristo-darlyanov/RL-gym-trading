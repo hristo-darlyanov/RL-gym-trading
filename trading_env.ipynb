{
 "cells": [
  {
   "cell_type": "code",
   "execution_count": 1,
   "metadata": {},
   "outputs": [],
   "source": [
    "#%pip install yfinance"
   ]
  },
  {
   "cell_type": "code",
   "execution_count": 293,
   "metadata": {},
   "outputs": [],
   "source": [
    "import requests\n",
    "import numpy as np\n",
    "import pandas as pd\n",
    "import yfinance as yf\n",
    "import random\n",
    "from gym import Env\n",
    "from gym.spaces import Discrete, Box\n",
    "import matplotlib.pyplot as plt\n",
    "from stable_baselines3.common.env_checker import check_env"
   ]
  },
  {
   "cell_type": "code",
   "execution_count": 2,
   "metadata": {},
   "outputs": [],
   "source": [
    "def getTickerData(ticker, period, interval):\n",
    "    hist = yf.download(tickers = ticker, period=period, interval=interval)\n",
    "    df = pd.DataFrame(hist)\n",
    "    df = df.reset_index()\n",
    "    return df"
   ]
  },
  {
   "cell_type": "code",
   "execution_count": 3,
   "metadata": {},
   "outputs": [
    {
     "name": "stdout",
     "output_type": "stream",
     "text": [
      "[*********************100%***********************]  1 of 1 completed\n"
     ]
    },
    {
     "data": {
      "text/html": [
       "<div>\n",
       "<style scoped>\n",
       "    .dataframe tbody tr th:only-of-type {\n",
       "        vertical-align: middle;\n",
       "    }\n",
       "\n",
       "    .dataframe tbody tr th {\n",
       "        vertical-align: top;\n",
       "    }\n",
       "\n",
       "    .dataframe thead th {\n",
       "        text-align: right;\n",
       "    }\n",
       "</style>\n",
       "<table border=\"1\" class=\"dataframe\">\n",
       "  <thead>\n",
       "    <tr style=\"text-align: right;\">\n",
       "      <th></th>\n",
       "      <th>date</th>\n",
       "      <th>close</th>\n",
       "    </tr>\n",
       "  </thead>\n",
       "  <tbody>\n",
       "    <tr>\n",
       "      <th>0</th>\n",
       "      <td>2014-09-17</td>\n",
       "      <td>457.334015</td>\n",
       "    </tr>\n",
       "    <tr>\n",
       "      <th>1</th>\n",
       "      <td>2014-09-18</td>\n",
       "      <td>424.440002</td>\n",
       "    </tr>\n",
       "    <tr>\n",
       "      <th>2</th>\n",
       "      <td>2014-09-19</td>\n",
       "      <td>394.795990</td>\n",
       "    </tr>\n",
       "    <tr>\n",
       "      <th>3</th>\n",
       "      <td>2014-09-20</td>\n",
       "      <td>408.903992</td>\n",
       "    </tr>\n",
       "    <tr>\n",
       "      <th>4</th>\n",
       "      <td>2014-09-21</td>\n",
       "      <td>398.821014</td>\n",
       "    </tr>\n",
       "    <tr>\n",
       "      <th>...</th>\n",
       "      <td>...</td>\n",
       "      <td>...</td>\n",
       "    </tr>\n",
       "    <tr>\n",
       "      <th>3140</th>\n",
       "      <td>2023-04-23</td>\n",
       "      <td>27591.384766</td>\n",
       "    </tr>\n",
       "    <tr>\n",
       "      <th>3141</th>\n",
       "      <td>2023-04-24</td>\n",
       "      <td>27525.339844</td>\n",
       "    </tr>\n",
       "    <tr>\n",
       "      <th>3142</th>\n",
       "      <td>2023-04-25</td>\n",
       "      <td>28307.597656</td>\n",
       "    </tr>\n",
       "    <tr>\n",
       "      <th>3143</th>\n",
       "      <td>2023-04-26</td>\n",
       "      <td>28422.701172</td>\n",
       "    </tr>\n",
       "    <tr>\n",
       "      <th>3144</th>\n",
       "      <td>2023-04-27</td>\n",
       "      <td>29090.429688</td>\n",
       "    </tr>\n",
       "  </tbody>\n",
       "</table>\n",
       "<p>3145 rows × 2 columns</p>\n",
       "</div>"
      ],
      "text/plain": [
       "           date         close\n",
       "0    2014-09-17    457.334015\n",
       "1    2014-09-18    424.440002\n",
       "2    2014-09-19    394.795990\n",
       "3    2014-09-20    408.903992\n",
       "4    2014-09-21    398.821014\n",
       "...         ...           ...\n",
       "3140 2023-04-23  27591.384766\n",
       "3141 2023-04-24  27525.339844\n",
       "3142 2023-04-25  28307.597656\n",
       "3143 2023-04-26  28422.701172\n",
       "3144 2023-04-27  29090.429688\n",
       "\n",
       "[3145 rows x 2 columns]"
      ]
     },
     "execution_count": 3,
     "metadata": {},
     "output_type": "execute_result"
    }
   ],
   "source": [
    "df = getTickerData('btc-usd', 'max', '1d')\n",
    "df = df.drop(columns={'Volume', 'Adj Close', 'Open', 'High', 'Low'})\n",
    "df = df.rename(columns={'Close': 'close', 'Date': 'date'})\n",
    "df['date'] = pd.to_datetime(df['date'])\n",
    "df"
   ]
  },
  {
   "cell_type": "code",
   "execution_count": 4,
   "metadata": {},
   "outputs": [
    {
     "data": {
      "text/plain": [
       "3096"
      ]
     },
     "execution_count": 4,
     "metadata": {},
     "output_type": "execute_result"
    }
   ],
   "source": [
    "rn = random.randint(0, df.value_counts().sum())\n",
    "i=0\n",
    "df.shape[0] - rn"
   ]
  },
  {
   "cell_type": "code",
   "execution_count": 5,
   "metadata": {},
   "outputs": [
    {
     "name": "stdout",
     "output_type": "stream",
     "text": [
      "366.92401123046875\n"
     ]
    },
    {
     "data": {
      "text/html": [
       "<div>\n",
       "<style scoped>\n",
       "    .dataframe tbody tr th:only-of-type {\n",
       "        vertical-align: middle;\n",
       "    }\n",
       "\n",
       "    .dataframe tbody tr th {\n",
       "        vertical-align: top;\n",
       "    }\n",
       "\n",
       "    .dataframe thead th {\n",
       "        text-align: right;\n",
       "    }\n",
       "</style>\n",
       "<table border=\"1\" class=\"dataframe\">\n",
       "  <thead>\n",
       "    <tr style=\"text-align: right;\">\n",
       "      <th></th>\n",
       "      <th>date</th>\n",
       "      <th>close</th>\n",
       "    </tr>\n",
       "  </thead>\n",
       "  <tbody>\n",
       "    <tr>\n",
       "      <th>49</th>\n",
       "      <td>2014-11-05</td>\n",
       "      <td>339.485992</td>\n",
       "    </tr>\n",
       "    <tr>\n",
       "      <th>50</th>\n",
       "      <td>2014-11-06</td>\n",
       "      <td>349.290009</td>\n",
       "    </tr>\n",
       "    <tr>\n",
       "      <th>51</th>\n",
       "      <td>2014-11-07</td>\n",
       "      <td>342.415009</td>\n",
       "    </tr>\n",
       "    <tr>\n",
       "      <th>52</th>\n",
       "      <td>2014-11-08</td>\n",
       "      <td>345.488007</td>\n",
       "    </tr>\n",
       "    <tr>\n",
       "      <th>53</th>\n",
       "      <td>2014-11-09</td>\n",
       "      <td>363.264008</td>\n",
       "    </tr>\n",
       "  </tbody>\n",
       "</table>\n",
       "</div>"
      ],
      "text/plain": [
       "         date       close\n",
       "49 2014-11-05  339.485992\n",
       "50 2014-11-06  349.290009\n",
       "51 2014-11-07  342.415009\n",
       "52 2014-11-08  345.488007\n",
       "53 2014-11-09  363.264008"
      ]
     },
     "execution_count": 5,
     "metadata": {},
     "output_type": "execute_result"
    },
    {
     "data": {
      "image/png": "[encoded data removed]",
      "text/plain": [
       "<Figure size 640x480 with 1 Axes>"
      ]
     },
     "metadata": {},
     "output_type": "display_data"
    }
   ],
   "source": [
    "df2 = df.iloc[rn+i:rn+5+i,:]\n",
    "final_value = df.iloc[rn+5+i]['close']\n",
    "close_value = df.iloc[rn+4+i]['close']\n",
    "plt.plot(df2['date'], df2['close'])\n",
    "print(final_value)\n",
    "i+=1\n",
    "df2"
   ]
  },
  {
   "cell_type": "code",
   "execution_count": 312,
   "metadata": {},
   "outputs": [],
   "source": [
    "class TradingEnv(Env):\n",
    "    def __init__(self, df, n_steps, window_size) -> None:\n",
    "        super().__init__()\n",
    "        self.df = df.drop(columns={'date'})\n",
    "        self.window_size = window_size\n",
    "        self.observation_space = Box(low=-np.inf, high=np.inf, shape=(window_size, self.df.shape[1]), dtype=np.float64)\n",
    "        self.action_space = Discrete(2)\n",
    "        self.done = None\n",
    "        \n",
    "        self.current_step = 0\n",
    "        self.n_steps = n_steps\n",
    "        self.random_index = random.randint(0, df.value_counts().sum())\n",
    "        \n",
    "        self.final_value = df.iloc[self.random_index+self.window_size+self.current_step]['close']\n",
    "        self.next_value = df.iloc[self.random_index+self.window_size+self.current_step+1]['close']\n",
    "        \n",
    "        self.long_pos = []\n",
    "        self.short_pos = []\n",
    "        \n",
    "    def step(self, action):\n",
    "        if action == 0:\n",
    "            self.short_pos.append(1)\n",
    "            self.long_pos.append(0)\n",
    "            if self.next_value < self.final_value:\n",
    "                reward = 10\n",
    "            else:\n",
    "                reward = -100\n",
    "        else:\n",
    "            self.short_pos.append(0)\n",
    "            self.long_pos.append(1)\n",
    "            if self.next_value > self.final_value:\n",
    "                reward = 10\n",
    "            else:\n",
    "                reward = -100\n",
    "        \n",
    "        self.final_value = df.iloc[self.random_index+self.window_size+self.current_step]['close']\n",
    "        self.next_value = df.iloc[self.random_index+self.window_size+self.current_step+1]['close']\n",
    "        self.current_step += 1\n",
    "        \n",
    "        if self.current_step > self.n_steps:\n",
    "            done = True\n",
    "        else:\n",
    "            done = False\n",
    "        \n",
    "        observation = self.get_observation()\n",
    "        info = {}\n",
    "        \n",
    "        return observation, reward, done, info\n",
    "        \n",
    "    def reset(self):\n",
    "        self.random_index = random.randint(0, df.value_counts().sum())\n",
    "        self.done = False\n",
    "        self.current_step = 0\n",
    "        return self.get_observation(is_random=True)\n",
    "    \n",
    "    def get_observation(self, is_random=False):\n",
    "        needed_space = self.window_size + self.n_steps*2\n",
    "        if is_random:\n",
    "            self.random_index = random.randint(0, df.value_counts().sum())\n",
    "            if df.shape[0] - self.random_index < needed_space:\n",
    "                self.random_index = df.shape[0] - needed_space\n",
    "        return self.df.iloc[self.random_index+self.current_step:self.random_index+self.window_size+self.current_step, :].values\n",
    "    \n",
    "    def calculate_reward():\n",
    "        pass    \n",
    "\n",
    "    def close():\n",
    "        pass\n",
    "    \n",
    "    def render():\n",
    "        pass\n",
    "    \n",
    "    def render_final():\n",
    "        pass"
   ]
  },
  {
   "cell_type": "code",
   "execution_count": 313,
   "metadata": {},
   "outputs": [],
   "source": [
    "env = TradingEnv(df, window_size=90, n_steps=20)"
   ]
  },
  {
   "cell_type": "code",
   "execution_count": 315,
   "metadata": {},
   "outputs": [
    {
     "name": "stderr",
     "output_type": "stream",
     "text": [
      "c:\\Users\\damem\\AppData\\Local\\Programs\\Python\\Python310\\lib\\site-packages\\stable_baselines3\\common\\env_checker.py:213: UserWarning: Your observation  has an unconventional shape (neither an image, nor a 1D vector). We recommend you to flatten the observation to have only a 1D vector or use a custom policy to properly process the data.\n",
      "  warnings.warn(\n"
     ]
    }
   ],
   "source": [
    "check_env(env)"
   ]
  },
  {
   "cell_type": "code",
   "execution_count": 316,
   "metadata": {},
   "outputs": [
    {
     "name": "stdout",
     "output_type": "stream",
     "text": [
      "23522.87109375\n",
      "23147.353515625\n"
     ]
    },
    {
     "data": {
      "image/png": "[encoded data removed]",
      "text/plain": [
       "<Figure size 640x480 with 1 Axes>"
      ]
     },
     "metadata": {},
     "output_type": "display_data"
    }
   ],
   "source": [
    "#env.reset()\n",
    "obs, reward, done, info = env.step(0)\n",
    "plt.plot(obs)\n",
    "print(env.final_value)\n",
    "print(env.next_value)"
   ]
  },
  {
   "cell_type": "code",
   "execution_count": 289,
   "metadata": {},
   "outputs": [
    {
     "name": "stdout",
     "output_type": "stream",
     "text": [
      "414.8160095214844\n",
      "416.72900390625\n"
     ]
    }
   ],
   "source": [
    "print(env.final_value)\n",
    "print(env.next_value)"
   ]
  },
  {
   "cell_type": "code",
   "execution_count": 288,
   "metadata": {},
   "outputs": [
    {
     "data": {
      "text/plain": [
       "array([[434.33401489],\n",
       "       [433.43798828],\n",
       "       [430.01098633],\n",
       "       [433.09100342],\n",
       "       [431.95999146],\n",
       "       [429.10501099],\n",
       "       [458.04800415],\n",
       "       [453.23001099],\n",
       "       [447.61099243],\n",
       "       [447.99099731],\n",
       "       [448.42800903],\n",
       "       [435.69000244],\n",
       "       [432.3710022 ],\n",
       "       [430.30599976],\n",
       "       [364.33099365],\n",
       "       [387.53601074],\n",
       "       [382.29901123],\n",
       "       [387.16799927],\n",
       "       [380.14898682],\n",
       "       [420.23001099],\n",
       "       [410.26199341],\n",
       "       [382.49200439],\n",
       "       [387.49099731],\n",
       "       [402.9710083 ],\n",
       "       [391.72601318],\n",
       "       [392.15301514],\n",
       "       [394.97198486],\n",
       "       [380.28900146],\n",
       "       [379.47399902],\n",
       "       [378.25500488],\n",
       "       [368.76699829],\n",
       "       [373.05599976],\n",
       "       [374.44799805],\n",
       "       [369.94900513],\n",
       "       [389.59399414],\n",
       "       [386.54901123],\n",
       "       [376.52200317],\n",
       "       [376.61999512],\n",
       "       [373.44699097],\n",
       "       [376.0289917 ],\n",
       "       [381.64898682],\n",
       "       [379.6539917 ],\n",
       "       [384.26300049],\n",
       "       [391.85998535],\n",
       "       [407.23001099],\n",
       "       [400.18499756],\n",
       "       [407.48800659],\n",
       "       [416.32199097],\n",
       "       [422.37298584],\n",
       "       [420.78500366],\n",
       "       [437.16400146],\n",
       "       [438.79800415],\n",
       "       [437.74798584],\n",
       "       [420.73599243],\n",
       "       [424.95498657],\n",
       "       [424.54400635],\n",
       "       [432.15200806],\n",
       "       [432.51901245],\n",
       "       [433.5039978 ],\n",
       "       [437.69699097],\n",
       "       [435.12298584],\n",
       "       [423.98901367],\n",
       "       [421.65100098],\n",
       "       [410.93899536],\n",
       "       [400.57000732],\n",
       "       [407.70700073],\n",
       "       [414.3210144 ],\n",
       "       [413.97198486],\n",
       "       [414.85998535],\n",
       "       [417.13101196],\n",
       "       [421.69000244],\n",
       "       [411.62399292],\n",
       "       [414.06500244],\n",
       "       [416.43798828],\n",
       "       [416.82998657],\n",
       "       [417.01098633],\n",
       "       [420.6210022 ],\n",
       "       [409.54800415],\n",
       "       [410.44400024],\n",
       "       [413.75500488],\n",
       "       [413.30700684],\n",
       "       [418.08898926],\n",
       "       [418.04098511],\n",
       "       [416.39401245],\n",
       "       [417.17700195],\n",
       "       [417.94500732],\n",
       "       [426.76501465],\n",
       "       [424.23098755],\n",
       "       [416.51599121],\n",
       "       [414.81600952]])"
      ]
     },
     "execution_count": 288,
     "metadata": {},
     "output_type": "execute_result"
    }
   ],
   "source": [
    "env.get_observation()"
   ]
  },
  {
   "cell_type": "code",
   "execution_count": 292,
   "metadata": {},
   "outputs": [
    {
     "name": "stdout",
     "output_type": "stream",
     "text": [
      "episode - 1 || score - -1000\n",
      "episode - 2 || score - -1110\n",
      "episode - 3 || score - -670\n",
      "episode - 4 || score - -1330\n",
      "episode - 5 || score - -1110\n",
      "episode - 6 || score - -1000\n",
      "episode - 7 || score - -890\n",
      "episode - 8 || score - -1000\n",
      "episode - 9 || score - -1000\n",
      "episode - 10 || score - -230\n"
     ]
    }
   ],
   "source": [
    "episodes = 10\n",
    "for n in range(1, episodes+1):\n",
    "    obs = env.reset()\n",
    "    done = False\n",
    "    score = 0\n",
    "    while not done:\n",
    "        action = env.action_space.sample()\n",
    "        obs, reward, done, info = env.step(action)\n",
    "        score += reward\n",
    "    print(f'episode - {n} || score - {score}')\n",
    "    "
   ]
  },
  {
   "cell_type": "code",
   "execution_count": 278,
   "metadata": {},
   "outputs": [
    {
     "data": {
      "text/plain": [
       "array([[23078.72851562],\n",
       "       [23031.08984375],\n",
       "       [23774.56640625],\n",
       "       [22840.13867188],\n",
       "       [23139.28320312],\n",
       "       [23723.76953125],\n",
       "       [23471.87109375],\n",
       "       [23449.32226562],\n",
       "       [23331.84765625],\n",
       "       [22955.66601562],\n",
       "       [22760.109375  ],\n",
       "       [23264.29101562],\n",
       "       [22939.3984375 ],\n",
       "       [21819.0390625 ],\n",
       "       [21651.18359375],\n",
       "       [21870.875     ],\n",
       "       [21788.203125  ],\n",
       "       [21808.1015625 ],\n",
       "       [22220.8046875 ],\n",
       "       [24307.84179688],\n",
       "       [23623.47460938],\n",
       "       [24565.6015625 ],\n",
       "       [24641.27734375],\n",
       "       [24327.64257812],\n",
       "       [24829.1484375 ],\n",
       "       [24436.35351562],\n",
       "       [24188.84375   ],\n",
       "       [23947.4921875 ],\n",
       "       [23198.12695312],\n",
       "       [23175.375     ],\n",
       "       [23561.21289062],\n",
       "       [23522.87109375],\n",
       "       [23147.35351562],\n",
       "       [23646.55078125],\n",
       "       [23475.46679688],\n",
       "       [22362.6796875 ],\n",
       "       [22353.34960938],\n",
       "       [22435.51367188],\n",
       "       [22429.7578125 ],\n",
       "       [22219.76953125],\n",
       "       [21718.08007812],\n",
       "       [20363.02148438],\n",
       "       [20187.24414062],\n",
       "       [20632.41015625],\n",
       "       [22163.94921875],\n",
       "       [24197.53320312],\n",
       "       [24746.07421875],\n",
       "       [24375.9609375 ],\n",
       "       [25052.7890625 ],\n",
       "       [27423.9296875 ],\n",
       "       [26965.87890625],\n",
       "       [28038.67578125],\n",
       "       [27767.23632812],\n",
       "       [28175.81640625],\n",
       "       [27307.4375    ],\n",
       "       [28333.97265625],\n",
       "       [27493.28515625],\n",
       "       [27494.70703125],\n",
       "       [27994.33007812],\n",
       "       [27139.88867188],\n",
       "       [27268.13085938],\n",
       "       [28348.44140625],\n",
       "       [28033.5625    ],\n",
       "       [28478.484375  ],\n",
       "       [28411.03515625],\n",
       "       [28199.30859375],\n",
       "       [27790.22070312],\n",
       "       [28168.08984375],\n",
       "       [28177.984375  ],\n",
       "       [28044.140625  ],\n",
       "       [27925.859375  ],\n",
       "       [27947.79492188],\n",
       "       [28333.05078125],\n",
       "       [29652.98046875],\n",
       "       [30235.05859375],\n",
       "       [30139.05273438],\n",
       "       [30399.06640625],\n",
       "       [30485.69921875],\n",
       "       [30318.49609375],\n",
       "       [30315.35546875],\n",
       "       [29445.04492188],\n",
       "       [30397.55273438],\n",
       "       [28822.6796875 ],\n",
       "       [28245.98828125],\n",
       "       [27276.91015625],\n",
       "       [27817.5       ],\n",
       "       [27591.38476562],\n",
       "       [27525.33984375],\n",
       "       [28307.59765625],\n",
       "       [28422.70117188]])"
      ]
     },
     "execution_count": 278,
     "metadata": {},
     "output_type": "execute_result"
    }
   ],
   "source": [
    "env.get_observation()"
   ]
  }
 ],
 "metadata": {
  "kernelspec": {
   "display_name": "Python 3",
   "language": "python",
   "name": "python3"
  },
  "language_info": {
   "codemirror_mode": {
    "name": "ipython",
    "version": 3
   },
   "file_extension": ".py",
   "mimetype": "text/x-python",
   "name": "python",
   "nbconvert_exporter": "python",
   "pygments_lexer": "ipython3",
   "version": "3.10.10"
  },
  "orig_nbformat": 4
 },
 "nbformat": 4,
 "nbformat_minor": 2
}
