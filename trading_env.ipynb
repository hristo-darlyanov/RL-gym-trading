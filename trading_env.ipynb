{
 "cells": [
  {
   "cell_type": "code",
   "execution_count": 1,
   "metadata": {},
   "outputs": [],
   "source": [
    "#%pip install yfinance"
   ]
  },
  {
   "cell_type": "code",
   "execution_count": 11,
   "metadata": {},
   "outputs": [],
   "source": [
    "import requests\n",
    "import numpy as np\n",
    "import pandas as pd\n",
    "import yfinance as yf\n",
    "import random\n",
    "from gym import Env\n",
    "from gym.spaces import Discrete, Box\n",
    "import matplotlib.pyplot as plt"
   ]
  },
  {
   "cell_type": "code",
   "execution_count": 2,
   "metadata": {},
   "outputs": [],
   "source": [
    "def getTickerData(ticker, period, interval):\n",
    "    hist = yf.download(tickers = ticker, period=period, interval=interval)\n",
    "    df = pd.DataFrame(hist)\n",
    "    df = df.reset_index()\n",
    "    return df"
   ]
  },
  {
   "cell_type": "code",
   "execution_count": 3,
   "metadata": {},
   "outputs": [
    {
     "name": "stdout",
     "output_type": "stream",
     "text": [
      "[*********************100%***********************]  1 of 1 completed\n"
     ]
    },
    {
     "data": {
      "text/html": [
       "<div>\n",
       "<style scoped>\n",
       "    .dataframe tbody tr th:only-of-type {\n",
       "        vertical-align: middle;\n",
       "    }\n",
       "\n",
       "    .dataframe tbody tr th {\n",
       "        vertical-align: top;\n",
       "    }\n",
       "\n",
       "    .dataframe thead th {\n",
       "        text-align: right;\n",
       "    }\n",
       "</style>\n",
       "<table border=\"1\" class=\"dataframe\">\n",
       "  <thead>\n",
       "    <tr style=\"text-align: right;\">\n",
       "      <th></th>\n",
       "      <th>date</th>\n",
       "      <th>close</th>\n",
       "    </tr>\n",
       "  </thead>\n",
       "  <tbody>\n",
       "    <tr>\n",
       "      <th>0</th>\n",
       "      <td>2014-09-17</td>\n",
       "      <td>457.334015</td>\n",
       "    </tr>\n",
       "    <tr>\n",
       "      <th>1</th>\n",
       "      <td>2014-09-18</td>\n",
       "      <td>424.440002</td>\n",
       "    </tr>\n",
       "    <tr>\n",
       "      <th>2</th>\n",
       "      <td>2014-09-19</td>\n",
       "      <td>394.795990</td>\n",
       "    </tr>\n",
       "    <tr>\n",
       "      <th>3</th>\n",
       "      <td>2014-09-20</td>\n",
       "      <td>408.903992</td>\n",
       "    </tr>\n",
       "    <tr>\n",
       "      <th>4</th>\n",
       "      <td>2014-09-21</td>\n",
       "      <td>398.821014</td>\n",
       "    </tr>\n",
       "    <tr>\n",
       "      <th>...</th>\n",
       "      <td>...</td>\n",
       "      <td>...</td>\n",
       "    </tr>\n",
       "    <tr>\n",
       "      <th>3139</th>\n",
       "      <td>2023-04-22</td>\n",
       "      <td>27817.500000</td>\n",
       "    </tr>\n",
       "    <tr>\n",
       "      <th>3140</th>\n",
       "      <td>2023-04-23</td>\n",
       "      <td>27591.384766</td>\n",
       "    </tr>\n",
       "    <tr>\n",
       "      <th>3141</th>\n",
       "      <td>2023-04-24</td>\n",
       "      <td>27525.339844</td>\n",
       "    </tr>\n",
       "    <tr>\n",
       "      <th>3142</th>\n",
       "      <td>2023-04-25</td>\n",
       "      <td>28307.597656</td>\n",
       "    </tr>\n",
       "    <tr>\n",
       "      <th>3143</th>\n",
       "      <td>2023-04-26</td>\n",
       "      <td>29732.957031</td>\n",
       "    </tr>\n",
       "  </tbody>\n",
       "</table>\n",
       "<p>3144 rows × 2 columns</p>\n",
       "</div>"
      ],
      "text/plain": [
       "           date         close\n",
       "0    2014-09-17    457.334015\n",
       "1    2014-09-18    424.440002\n",
       "2    2014-09-19    394.795990\n",
       "3    2014-09-20    408.903992\n",
       "4    2014-09-21    398.821014\n",
       "...         ...           ...\n",
       "3139 2023-04-22  27817.500000\n",
       "3140 2023-04-23  27591.384766\n",
       "3141 2023-04-24  27525.339844\n",
       "3142 2023-04-25  28307.597656\n",
       "3143 2023-04-26  29732.957031\n",
       "\n",
       "[3144 rows x 2 columns]"
      ]
     },
     "execution_count": 3,
     "metadata": {},
     "output_type": "execute_result"
    }
   ],
   "source": [
    "df = getTickerData('btc-usd', 'max', '1d')\n",
    "df = df.drop(columns={'Volume', 'Adj Close', 'Open', 'High', 'Low'})\n",
    "df = df.rename(columns={'Close': 'close', 'Date': 'date'})\n",
    "df['date'] = pd.to_datetime(df['date'])\n",
    "df"
   ]
  },
  {
   "cell_type": "code",
   "execution_count": 131,
   "metadata": {},
   "outputs": [
    {
     "data": {
      "text/plain": [
       "array([[Timestamp('2022-01-20 00:00:00'), 40680.41796875],\n",
       "       [Timestamp('2022-01-21 00:00:00'), 36457.31640625],\n",
       "       [Timestamp('2022-01-22 00:00:00'), 35030.25],\n",
       "       [Timestamp('2022-01-23 00:00:00'), 36276.8046875],\n",
       "       [Timestamp('2022-01-24 00:00:00'), 36654.328125],\n",
       "       [Timestamp('2022-01-25 00:00:00'), 36954.00390625],\n",
       "       [Timestamp('2022-01-26 00:00:00'), 36852.12109375],\n",
       "       [Timestamp('2022-01-27 00:00:00'), 37138.234375],\n",
       "       [Timestamp('2022-01-28 00:00:00'), 37784.33203125],\n",
       "       [Timestamp('2022-01-29 00:00:00'), 38138.1796875],\n",
       "       [Timestamp('2022-01-30 00:00:00'), 37917.6015625],\n",
       "       [Timestamp('2022-01-31 00:00:00'), 38483.125],\n",
       "       [Timestamp('2022-02-01 00:00:00'), 38743.2734375],\n",
       "       [Timestamp('2022-02-02 00:00:00'), 36952.984375],\n",
       "       [Timestamp('2022-02-03 00:00:00'), 37154.6015625],\n",
       "       [Timestamp('2022-02-04 00:00:00'), 41500.875],\n",
       "       [Timestamp('2022-02-05 00:00:00'), 41441.1640625],\n",
       "       [Timestamp('2022-02-06 00:00:00'), 42412.43359375],\n",
       "       [Timestamp('2022-02-07 00:00:00'), 43840.28515625],\n",
       "       [Timestamp('2022-02-08 00:00:00'), 44118.4453125],\n",
       "       [Timestamp('2022-02-09 00:00:00'), 44338.796875],\n",
       "       [Timestamp('2022-02-10 00:00:00'), 43565.11328125],\n",
       "       [Timestamp('2022-02-11 00:00:00'), 42407.9375],\n",
       "       [Timestamp('2022-02-12 00:00:00'), 42244.46875]], dtype=object)"
      ]
     },
     "execution_count": 131,
     "metadata": {},
     "output_type": "execute_result"
    }
   ],
   "source": [
    "rn = random.randint(0, df.value_counts().sum())\n",
    "df2 = df.iloc[rn:rn+24,:].values\n",
    "df2"
   ]
  },
  {
   "cell_type": "code",
   "execution_count": 262,
   "metadata": {},
   "outputs": [],
   "source": [
    "class TradingEnv(Env):\n",
    "    def __init__(self, df, window_size) -> None:\n",
    "        super().__init__()\n",
    "        self.df = df.drop(columns={'date'})\n",
    "        self.window_size = window_size\n",
    "        self.observation_space = Box(low=-np.inf, high=np.inf, shape=(window_size, self.df.shape[1]))\n",
    "        self.action_space = Discrete(2)\n",
    "        self.done = None\n",
    "        \n",
    "    def step(self, action):\n",
    "        pass\n",
    "        \n",
    "    def reset(self):\n",
    "        rn = random.randint(0, df.value_counts().sum())\n",
    "        self.done = False\n",
    "        return self.df.iloc[rn:rn+self.window_size,:].values\n",
    "    \n",
    "    def close():\n",
    "        pass\n",
    "    \n",
    "    def render():\n",
    "        pass"
   ]
  },
  {
   "cell_type": "code",
   "execution_count": 263,
   "metadata": {},
   "outputs": [],
   "source": [
    "env = TradingEnv(df, 24)"
   ]
  },
  {
   "cell_type": "code",
   "execution_count": 264,
   "metadata": {},
   "outputs": [
    {
     "data": {
      "text/plain": [
       "array([[55859.796875  ],\n",
       "       [56704.57421875],\n",
       "       [49150.53515625],\n",
       "       [49716.19140625],\n",
       "       [49880.53515625],\n",
       "       [46760.1875    ],\n",
       "       [46456.05859375],\n",
       "       [43537.51171875],\n",
       "       [42909.40234375],\n",
       "       [37002.44140625],\n",
       "       [40782.73828125],\n",
       "       [37304.69140625],\n",
       "       [37536.6328125 ],\n",
       "       [34770.58203125],\n",
       "       [38705.98046875],\n",
       "       [38402.22265625],\n",
       "       [39294.19921875],\n",
       "       [38436.96875   ],\n",
       "       [35697.60546875],\n",
       "       [34616.06640625],\n",
       "       [35678.12890625],\n",
       "       [37332.85546875],\n",
       "       [36684.92578125],\n",
       "       [37575.1796875 ]])"
      ]
     },
     "execution_count": 264,
     "metadata": {},
     "output_type": "execute_result"
    }
   ],
   "source": [
    "env.reset()"
   ]
  },
  {
   "cell_type": "code",
   "execution_count": 266,
   "metadata": {},
   "outputs": [
    {
     "data": {
      "text/plain": [
       "array([[-1.6859998 ],\n",
       "       [ 0.08995105],\n",
       "       [ 0.5286742 ],\n",
       "       [ 0.3020816 ],\n",
       "       [ 1.6083019 ],\n",
       "       [ 0.49004412],\n",
       "       [ 2.1249847 ],\n",
       "       [ 0.748544  ],\n",
       "       [ 0.52129215],\n",
       "       [ 1.135478  ],\n",
       "       [-1.0935725 ],\n",
       "       [-0.05944352],\n",
       "       [-0.11387068],\n",
       "       [ 1.3883344 ],\n",
       "       [-0.8300351 ],\n",
       "       [ 0.4943595 ],\n",
       "       [-2.1971595 ],\n",
       "       [-0.29393315],\n",
       "       [ 0.67728543],\n",
       "       [ 0.02854411],\n",
       "       [ 1.6480627 ],\n",
       "       [-0.15324225],\n",
       "       [ 0.5310188 ],\n",
       "       [-1.0086982 ]], dtype=float32)"
      ]
     },
     "execution_count": 266,
     "metadata": {},
     "output_type": "execute_result"
    }
   ],
   "source": [
    "env.observation_space.sample()"
   ]
  }
 ],
 "metadata": {
  "kernelspec": {
   "display_name": "Python 3",
   "language": "python",
   "name": "python3"
  },
  "language_info": {
   "codemirror_mode": {
    "name": "ipython",
    "version": 3
   },
   "file_extension": ".py",
   "mimetype": "text/x-python",
   "name": "python",
   "nbconvert_exporter": "python",
   "pygments_lexer": "ipython3",
   "version": "3.10.10"
  },
  "orig_nbformat": 4
 },
 "nbformat": 4,
 "nbformat_minor": 2
}
