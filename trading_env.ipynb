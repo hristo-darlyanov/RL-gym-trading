{
 "cells": [
  {
   "cell_type": "code",
   "execution_count": 1,
   "metadata": {},
   "outputs": [],
   "source": [
    "#%pip install pip install sb3-contrib"
   ]
  },
  {
   "cell_type": "code",
   "execution_count": 18,
   "metadata": {},
   "outputs": [],
   "source": [
    "import os\n",
    "import requests\n",
    "import numpy as np\n",
    "import pandas as pd\n",
    "import yfinance as yf\n",
    "import random\n",
    "from gym import Env\n",
    "from gym.spaces import Discrete, Box\n",
    "import matplotlib.pyplot as plt\n",
    "from stable_baselines3.common.env_checker import check_env\n",
    "from stable_baselines3.common.callbacks import BaseCallback\n",
    "from sb3_contrib import RecurrentPPO\n",
    "from stable_baselines3.common.env_util import make_vec_env\n",
    "from stable_baselines3.common.vec_env import DummyVecEnv"
   ]
  },
  {
   "cell_type": "code",
   "execution_count": 3,
   "metadata": {},
   "outputs": [],
   "source": [
    "class TrainAndLoggingCallback(BaseCallback):\n",
    "    def __init__(self, check_freq, save_path, verbose=1):\n",
    "        super(TrainAndLoggingCallback, self).__init__(verbose)\n",
    "        self.check_freq = check_freq\n",
    "        self.save_path = save_path\n",
    "\n",
    "    def _init_callback(self):\n",
    "        if self.save_path is not None:\n",
    "            os.makedirs(self.save_path, exist_ok=True)\n",
    "        \n",
    "    def _on_step(self):\n",
    "        if self.n_calls % self.check_freq == 0:\n",
    "            model_path = os.path.join(self.save_path, 'best_model_{}'.format(self.n_calls))\n",
    "            self.model.save(model_path)"
   ]
  },
  {
   "cell_type": "code",
   "execution_count": 4,
   "metadata": {},
   "outputs": [],
   "source": [
    "def getTickerData(ticker, period, interval):\n",
    "    hist = yf.download(tickers = ticker, period=period, interval=interval)\n",
    "    df = pd.DataFrame(hist)\n",
    "    df = df.reset_index()\n",
    "    return df"
   ]
  },
  {
   "cell_type": "code",
   "execution_count": 5,
   "metadata": {},
   "outputs": [
    {
     "name": "stdout",
     "output_type": "stream",
     "text": [
      "[*********************100%***********************]  1 of 1 completed\n"
     ]
    },
    {
     "data": {
      "text/html": [
       "<div>\n",
       "<style scoped>\n",
       "    .dataframe tbody tr th:only-of-type {\n",
       "        vertical-align: middle;\n",
       "    }\n",
       "\n",
       "    .dataframe tbody tr th {\n",
       "        vertical-align: top;\n",
       "    }\n",
       "\n",
       "    .dataframe thead th {\n",
       "        text-align: right;\n",
       "    }\n",
       "</style>\n",
       "<table border=\"1\" class=\"dataframe\">\n",
       "  <thead>\n",
       "    <tr style=\"text-align: right;\">\n",
       "      <th></th>\n",
       "      <th>date</th>\n",
       "      <th>close</th>\n",
       "    </tr>\n",
       "  </thead>\n",
       "  <tbody>\n",
       "    <tr>\n",
       "      <th>0</th>\n",
       "      <td>2014-09-17</td>\n",
       "      <td>457.334015</td>\n",
       "    </tr>\n",
       "    <tr>\n",
       "      <th>1</th>\n",
       "      <td>2014-09-18</td>\n",
       "      <td>424.440002</td>\n",
       "    </tr>\n",
       "    <tr>\n",
       "      <th>2</th>\n",
       "      <td>2014-09-19</td>\n",
       "      <td>394.795990</td>\n",
       "    </tr>\n",
       "    <tr>\n",
       "      <th>3</th>\n",
       "      <td>2014-09-20</td>\n",
       "      <td>408.903992</td>\n",
       "    </tr>\n",
       "    <tr>\n",
       "      <th>4</th>\n",
       "      <td>2014-09-21</td>\n",
       "      <td>398.821014</td>\n",
       "    </tr>\n",
       "    <tr>\n",
       "      <th>...</th>\n",
       "      <td>...</td>\n",
       "      <td>...</td>\n",
       "    </tr>\n",
       "    <tr>\n",
       "      <th>3140</th>\n",
       "      <td>2023-04-23</td>\n",
       "      <td>27591.384766</td>\n",
       "    </tr>\n",
       "    <tr>\n",
       "      <th>3141</th>\n",
       "      <td>2023-04-24</td>\n",
       "      <td>27525.339844</td>\n",
       "    </tr>\n",
       "    <tr>\n",
       "      <th>3142</th>\n",
       "      <td>2023-04-25</td>\n",
       "      <td>28307.597656</td>\n",
       "    </tr>\n",
       "    <tr>\n",
       "      <th>3143</th>\n",
       "      <td>2023-04-26</td>\n",
       "      <td>28422.701172</td>\n",
       "    </tr>\n",
       "    <tr>\n",
       "      <th>3144</th>\n",
       "      <td>2023-04-27</td>\n",
       "      <td>29232.511719</td>\n",
       "    </tr>\n",
       "  </tbody>\n",
       "</table>\n",
       "<p>3145 rows × 2 columns</p>\n",
       "</div>"
      ],
      "text/plain": [
       "           date         close\n",
       "0    2014-09-17    457.334015\n",
       "1    2014-09-18    424.440002\n",
       "2    2014-09-19    394.795990\n",
       "3    2014-09-20    408.903992\n",
       "4    2014-09-21    398.821014\n",
       "...         ...           ...\n",
       "3140 2023-04-23  27591.384766\n",
       "3141 2023-04-24  27525.339844\n",
       "3142 2023-04-25  28307.597656\n",
       "3143 2023-04-26  28422.701172\n",
       "3144 2023-04-27  29232.511719\n",
       "\n",
       "[3145 rows x 2 columns]"
      ]
     },
     "execution_count": 5,
     "metadata": {},
     "output_type": "execute_result"
    }
   ],
   "source": [
    "df = getTickerData('btc-usd', 'max', '1d')\n",
    "df = df.drop(columns={'Volume', 'Adj Close', 'Open', 'High', 'Low'})\n",
    "df = df.rename(columns={'Close': 'close', 'Date': 'date'})\n",
    "df['date'] = pd.to_datetime(df['date'])\n",
    "df"
   ]
  },
  {
   "cell_type": "code",
   "execution_count": 6,
   "metadata": {},
   "outputs": [
    {
     "data": {
      "text/plain": [
       "2502"
      ]
     },
     "execution_count": 6,
     "metadata": {},
     "output_type": "execute_result"
    }
   ],
   "source": [
    "rn = random.randint(0, df.value_counts().sum())\n",
    "i=0\n",
    "df.shape[0] - rn"
   ]
  },
  {
   "cell_type": "code",
   "execution_count": 7,
   "metadata": {},
   "outputs": [
    {
     "name": "stdout",
     "output_type": "stream",
     "text": [
      "629.3670043945312\n"
     ]
    },
    {
     "data": {
      "text/html": [
       "<div>\n",
       "<style scoped>\n",
       "    .dataframe tbody tr th:only-of-type {\n",
       "        vertical-align: middle;\n",
       "    }\n",
       "\n",
       "    .dataframe tbody tr th {\n",
       "        vertical-align: top;\n",
       "    }\n",
       "\n",
       "    .dataframe thead th {\n",
       "        text-align: right;\n",
       "    }\n",
       "</style>\n",
       "<table border=\"1\" class=\"dataframe\">\n",
       "  <thead>\n",
       "    <tr style=\"text-align: right;\">\n",
       "      <th></th>\n",
       "      <th>date</th>\n",
       "      <th>close</th>\n",
       "    </tr>\n",
       "  </thead>\n",
       "  <tbody>\n",
       "    <tr>\n",
       "      <th>643</th>\n",
       "      <td>2016-06-21</td>\n",
       "      <td>666.651978</td>\n",
       "    </tr>\n",
       "    <tr>\n",
       "      <th>644</th>\n",
       "      <td>2016-06-22</td>\n",
       "      <td>596.116028</td>\n",
       "    </tr>\n",
       "    <tr>\n",
       "      <th>645</th>\n",
       "      <td>2016-06-23</td>\n",
       "      <td>623.976990</td>\n",
       "    </tr>\n",
       "    <tr>\n",
       "      <th>646</th>\n",
       "      <td>2016-06-24</td>\n",
       "      <td>665.299011</td>\n",
       "    </tr>\n",
       "    <tr>\n",
       "      <th>647</th>\n",
       "      <td>2016-06-25</td>\n",
       "      <td>665.122986</td>\n",
       "    </tr>\n",
       "  </tbody>\n",
       "</table>\n",
       "</div>"
      ],
      "text/plain": [
       "          date       close\n",
       "643 2016-06-21  666.651978\n",
       "644 2016-06-22  596.116028\n",
       "645 2016-06-23  623.976990\n",
       "646 2016-06-24  665.299011\n",
       "647 2016-06-25  665.122986"
      ]
     },
     "execution_count": 7,
     "metadata": {},
     "output_type": "execute_result"
    },
    {
     "data": {
      "image/png": "[encoded data removed]",
      "text/plain": [
       "<Figure size 640x480 with 1 Axes>"
      ]
     },
     "metadata": {},
     "output_type": "display_data"
    }
   ],
   "source": [
    "df2 = df.iloc[rn+i:rn+5+i,:]\n",
    "final_value = df.iloc[rn+5+i]['close']\n",
    "close_value = df.iloc[rn+4+i]['close']\n",
    "plt.plot(df2['date'], df2['close'])\n",
    "print(final_value)\n",
    "i+=1\n",
    "df2"
   ]
  },
  {
   "cell_type": "code",
   "execution_count": 8,
   "metadata": {},
   "outputs": [],
   "source": [
    "class TradingEnv(Env):\n",
    "    def __init__(self, df, n_steps, window_size) -> None:\n",
    "        super().__init__()\n",
    "        self.df = df.drop(columns={'date'})\n",
    "        self.window_size = window_size\n",
    "        self.observation_space = Box(low=-np.inf, high=np.inf, shape=(window_size, self.df.shape[1]), dtype=np.float64)\n",
    "        self.action_space = Discrete(2)\n",
    "        self.done = None\n",
    "        \n",
    "        self.current_step = 0\n",
    "        self.n_steps = n_steps\n",
    "        self.random_index = random.randint(0, df.value_counts().sum())\n",
    "        \n",
    "        self.final_value = df.iloc[self.random_index+self.window_size+self.current_step]['close']\n",
    "        self.next_value = df.iloc[self.random_index+self.window_size+self.current_step+1]['close']\n",
    "        \n",
    "        self.long_pos = []\n",
    "        self.short_pos = []\n",
    "        \n",
    "    def step(self, action):\n",
    "        if action == 0:\n",
    "            self.short_pos.append(1)\n",
    "            self.long_pos.append(0)\n",
    "            if self.next_value < self.final_value:\n",
    "                reward = 10\n",
    "            else:\n",
    "                reward = -100\n",
    "        else:\n",
    "            self.short_pos.append(0)\n",
    "            self.long_pos.append(1)\n",
    "            if self.next_value > self.final_value:\n",
    "                reward = 10\n",
    "            else:\n",
    "                reward = -100\n",
    "        \n",
    "        self.final_value = df.iloc[self.random_index+self.window_size+self.current_step]['close']\n",
    "        self.next_value = df.iloc[self.random_index+self.window_size+self.current_step+1]['close']\n",
    "        self.current_step += 1\n",
    "        \n",
    "        if self.current_step > self.n_steps:\n",
    "            done = True\n",
    "        else:\n",
    "            done = False\n",
    "        \n",
    "        observation = self.get_observation()\n",
    "        info = {}\n",
    "        \n",
    "        return observation, reward, done, info\n",
    "        \n",
    "    def reset(self):\n",
    "        self.random_index = random.randint(0, df.value_counts().sum())\n",
    "        self.done = False\n",
    "        self.current_step = 0\n",
    "        return self.get_observation(is_random=True)\n",
    "    \n",
    "    def get_observation(self, is_random=False):\n",
    "        needed_space = self.window_size + self.n_steps*2\n",
    "        if is_random:\n",
    "            self.random_index = random.randint(0, df.value_counts().sum())\n",
    "            if df.shape[0] - self.random_index < needed_space:\n",
    "                self.random_index = df.shape[0] - needed_space\n",
    "        return self.df.iloc[self.random_index+self.current_step:self.random_index+self.window_size+self.current_step, :].values\n",
    "    \n",
    "    def calculate_reward():\n",
    "        pass    \n",
    "\n",
    "    def close():\n",
    "        pass\n",
    "    \n",
    "    def render():\n",
    "        pass\n",
    "    \n",
    "    def render_final():\n",
    "        pass"
   ]
  },
  {
   "cell_type": "code",
   "execution_count": 9,
   "metadata": {},
   "outputs": [],
   "source": [
    "env = TradingEnv(df, window_size=90, n_steps=20)"
   ]
  },
  {
   "cell_type": "code",
   "execution_count": 21,
   "metadata": {},
   "outputs": [],
   "source": [
    "env = DummyVecEnv([lambda: env])"
   ]
  },
  {
   "cell_type": "code",
   "execution_count": 10,
   "metadata": {},
   "outputs": [
    {
     "name": "stderr",
     "output_type": "stream",
     "text": [
      "c:\\Users\\damem\\AppData\\Local\\Programs\\Python\\Python310\\lib\\site-packages\\stable_baselines3\\common\\env_checker.py:213: UserWarning: Your observation  has an unconventional shape (neither an image, nor a 1D vector). We recommend you to flatten the observation to have only a 1D vector or use a custom policy to properly process the data.\n",
      "  warnings.warn(\n"
     ]
    }
   ],
   "source": [
    "check_env(env)"
   ]
  },
  {
   "cell_type": "code",
   "execution_count": 11,
   "metadata": {},
   "outputs": [
    {
     "name": "stdout",
     "output_type": "stream",
     "text": [
      "46820.4921875\n",
      "47128.00390625\n"
     ]
    },
    {
     "data": {
      "image/png": "[encoded data removed]",
      "text/plain": [
       "<Figure size 640x480 with 1 Axes>"
      ]
     },
     "metadata": {},
     "output_type": "display_data"
    }
   ],
   "source": [
    "#env.reset()\n",
    "obs, reward, done, info = env.step(0)\n",
    "plt.plot(obs)\n",
    "print(env.final_value)\n",
    "print(env.next_value)"
   ]
  },
  {
   "cell_type": "code",
   "execution_count": 12,
   "metadata": {},
   "outputs": [
    {
     "name": "stdout",
     "output_type": "stream",
     "text": [
      "episode - 1 || score - -1000\n",
      "episode - 2 || score - -450\n",
      "episode - 3 || score - -1110\n",
      "episode - 4 || score - -1110\n",
      "episode - 5 || score - -780\n",
      "episode - 6 || score - -450\n",
      "episode - 7 || score - -780\n",
      "episode - 8 || score - -1220\n",
      "episode - 9 || score - -890\n",
      "episode - 10 || score - -890\n"
     ]
    }
   ],
   "source": [
    "episodes = 10\n",
    "for n in range(1, episodes+1):\n",
    "    obs = env.reset()\n",
    "    done = False\n",
    "    score = 0\n",
    "    while not done:\n",
    "        action = env.action_space.sample()\n",
    "        obs, reward, done, info = env.step(action)\n",
    "        score += reward\n",
    "    print(f'episode - {n} || score - {score}')\n",
    "    "
   ]
  },
  {
   "cell_type": "code",
   "execution_count": 13,
   "metadata": {},
   "outputs": [],
   "source": [
    "CHECKPOINT_DIR = './train/'\n",
    "LOG_DIR = './logs/'"
   ]
  },
  {
   "cell_type": "code",
   "execution_count": 14,
   "metadata": {},
   "outputs": [],
   "source": [
    "callback = TrainAndLoggingCallback(check_freq=1000, save_path=CHECKPOINT_DIR)"
   ]
  },
  {
   "cell_type": "code",
   "execution_count": 22,
   "metadata": {},
   "outputs": [
    {
     "name": "stdout",
     "output_type": "stream",
     "text": [
      "Using cuda device\n"
     ]
    }
   ],
   "source": [
    "model = RecurrentPPO('MlpLstmPolicy', env, verbose=1, tensorboard_log=LOG_DIR, learning_rate=0.0001)"
   ]
  }
 ],
 "metadata": {
  "kernelspec": {
   "display_name": "Python 3",
   "language": "python",
   "name": "python3"
  },
  "language_info": {
   "codemirror_mode": {
    "name": "ipython",
    "version": 3
   },
   "file_extension": ".py",
   "mimetype": "text/x-python",
   "name": "python",
   "nbconvert_exporter": "python",
   "pygments_lexer": "ipython3",
   "version": "3.10.10"
  },
  "orig_nbformat": 4
 },
 "nbformat": 4,
 "nbformat_minor": 2
}
