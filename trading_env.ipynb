{
 "cells": [
  {
   "cell_type": "code",
   "execution_count": 1,
   "metadata": {},
   "outputs": [],
   "source": [
    "#%pip install yfinance"
   ]
  },
  {
   "cell_type": "code",
   "execution_count": 1,
   "metadata": {},
   "outputs": [],
   "source": [
    "import requests\n",
    "import numpy as np\n",
    "import pandas as pd\n",
    "import yfinance as yf\n",
    "import random\n",
    "from gym import Env\n",
    "from gym.spaces import Discrete, Box\n",
    "import matplotlib.pyplot as plt"
   ]
  },
  {
   "cell_type": "code",
   "execution_count": 2,
   "metadata": {},
   "outputs": [],
   "source": [
    "def getTickerData(ticker, period, interval):\n",
    "    hist = yf.download(tickers = ticker, period=period, interval=interval)\n",
    "    df = pd.DataFrame(hist)\n",
    "    df = df.reset_index()\n",
    "    return df"
   ]
  },
  {
   "cell_type": "code",
   "execution_count": 3,
   "metadata": {},
   "outputs": [
    {
     "name": "stdout",
     "output_type": "stream",
     "text": [
      "[*********************100%***********************]  1 of 1 completed\n"
     ]
    },
    {
     "data": {
      "text/html": [
       "<div>\n",
       "<style scoped>\n",
       "    .dataframe tbody tr th:only-of-type {\n",
       "        vertical-align: middle;\n",
       "    }\n",
       "\n",
       "    .dataframe tbody tr th {\n",
       "        vertical-align: top;\n",
       "    }\n",
       "\n",
       "    .dataframe thead th {\n",
       "        text-align: right;\n",
       "    }\n",
       "</style>\n",
       "<table border=\"1\" class=\"dataframe\">\n",
       "  <thead>\n",
       "    <tr style=\"text-align: right;\">\n",
       "      <th></th>\n",
       "      <th>date</th>\n",
       "      <th>close</th>\n",
       "    </tr>\n",
       "  </thead>\n",
       "  <tbody>\n",
       "    <tr>\n",
       "      <th>0</th>\n",
       "      <td>2014-09-17</td>\n",
       "      <td>457.334015</td>\n",
       "    </tr>\n",
       "    <tr>\n",
       "      <th>1</th>\n",
       "      <td>2014-09-18</td>\n",
       "      <td>424.440002</td>\n",
       "    </tr>\n",
       "    <tr>\n",
       "      <th>2</th>\n",
       "      <td>2014-09-19</td>\n",
       "      <td>394.795990</td>\n",
       "    </tr>\n",
       "    <tr>\n",
       "      <th>3</th>\n",
       "      <td>2014-09-20</td>\n",
       "      <td>408.903992</td>\n",
       "    </tr>\n",
       "    <tr>\n",
       "      <th>4</th>\n",
       "      <td>2014-09-21</td>\n",
       "      <td>398.821014</td>\n",
       "    </tr>\n",
       "    <tr>\n",
       "      <th>...</th>\n",
       "      <td>...</td>\n",
       "      <td>...</td>\n",
       "    </tr>\n",
       "    <tr>\n",
       "      <th>3140</th>\n",
       "      <td>2023-04-23</td>\n",
       "      <td>27591.384766</td>\n",
       "    </tr>\n",
       "    <tr>\n",
       "      <th>3141</th>\n",
       "      <td>2023-04-24</td>\n",
       "      <td>27525.339844</td>\n",
       "    </tr>\n",
       "    <tr>\n",
       "      <th>3142</th>\n",
       "      <td>2023-04-25</td>\n",
       "      <td>28307.597656</td>\n",
       "    </tr>\n",
       "    <tr>\n",
       "      <th>3143</th>\n",
       "      <td>2023-04-26</td>\n",
       "      <td>28422.701172</td>\n",
       "    </tr>\n",
       "    <tr>\n",
       "      <th>3144</th>\n",
       "      <td>2023-04-27</td>\n",
       "      <td>29004.808594</td>\n",
       "    </tr>\n",
       "  </tbody>\n",
       "</table>\n",
       "<p>3145 rows × 2 columns</p>\n",
       "</div>"
      ],
      "text/plain": [
       "           date         close\n",
       "0    2014-09-17    457.334015\n",
       "1    2014-09-18    424.440002\n",
       "2    2014-09-19    394.795990\n",
       "3    2014-09-20    408.903992\n",
       "4    2014-09-21    398.821014\n",
       "...         ...           ...\n",
       "3140 2023-04-23  27591.384766\n",
       "3141 2023-04-24  27525.339844\n",
       "3142 2023-04-25  28307.597656\n",
       "3143 2023-04-26  28422.701172\n",
       "3144 2023-04-27  29004.808594\n",
       "\n",
       "[3145 rows x 2 columns]"
      ]
     },
     "execution_count": 3,
     "metadata": {},
     "output_type": "execute_result"
    }
   ],
   "source": [
    "df = getTickerData('btc-usd', 'max', '1d')\n",
    "df = df.drop(columns={'Volume', 'Adj Close', 'Open', 'High', 'Low'})\n",
    "df = df.rename(columns={'Close': 'close', 'Date': 'date'})\n",
    "df['date'] = pd.to_datetime(df['date'])\n",
    "df"
   ]
  },
  {
   "cell_type": "code",
   "execution_count": 80,
   "metadata": {},
   "outputs": [],
   "source": [
    "rn = random.randint(0, df.value_counts().sum())\n",
    "i=0"
   ]
  },
  {
   "cell_type": "code",
   "execution_count": 103,
   "metadata": {},
   "outputs": [
    {
     "name": "stdout",
     "output_type": "stream",
     "text": [
      "[Timestamp('2015-09-06 00:00:00') 239.83999633789062]\n"
     ]
    },
    {
     "data": {
      "image/png": "[encoded data removed]",
      "text/plain": [
       "<Figure size 640x480 with 1 Axes>"
      ]
     },
     "metadata": {},
     "output_type": "display_data"
    }
   ],
   "source": [
    "df2 = df.iloc[rn:rn+24+i,:]\n",
    "final_value = df.iloc[rn+25].values\n",
    "plt.plot(df2['date'], df2['close'])\n",
    "print(final_value)\n",
    "i+=1"
   ]
  },
  {
   "cell_type": "code",
   "execution_count": 104,
   "metadata": {},
   "outputs": [],
   "source": [
    "class TradingEnv(Env):\n",
    "    def __init__(self, df, n_steps, analyzation_window_size) -> None:\n",
    "        super().__init__()\n",
    "        self.df = df.drop(columns={'date'})\n",
    "        self.analyzation_window_size = analyzation_window_size\n",
    "        self.observation_space = Box(low=-np.inf, high=np.inf, shape=(analyzation_window_size, self.df.shape[1]))\n",
    "        self.action_space = Discrete(2)\n",
    "        self.done = None\n",
    "        \n",
    "        self.current_step = 0\n",
    "        self.n_steps = n_steps\n",
    "        self.random_index = random.randint(0, df.value_counts().sum())\n",
    "        \n",
    "        self.long_pos = []\n",
    "        self.short_pos = []\n",
    "        \n",
    "    def step(self, action):\n",
    "        \n",
    "        \n",
    "        pass\n",
    "        \n",
    "    def reset(self):\n",
    "        self.random_index = random.randint(0, df.value_counts().sum())\n",
    "        self.done = False\n",
    "        self.current_step = 0\n",
    "        return self.get_observation(is_random=True, index=0)\n",
    "    \n",
    "    def get_observation(self, is_random, index):\n",
    "        if is_random:\n",
    "            self.random_index = random.randint(0, df.value_counts().sum())\n",
    "        return self.df.iloc[self.random_index:self.random_index+self.analyzation_window_size+index, :].values\n",
    "    \n",
    "    def close():\n",
    "        pass\n",
    "    \n",
    "    def render():\n",
    "        pass"
   ]
  },
  {
   "cell_type": "code",
   "execution_count": 106,
   "metadata": {},
   "outputs": [],
   "source": [
    "env = TradingEnv(df, analyzation_window_size=90, n_steps=20)"
   ]
  },
  {
   "cell_type": "code",
   "execution_count": 113,
   "metadata": {},
   "outputs": [
    {
     "data": {
      "text/plain": [
       "array([[6377.77978516],\n",
       "       [6388.43994141],\n",
       "       [6361.25976562],\n",
       "       [6376.12988281],\n",
       "       [6419.66015625],\n",
       "       [6461.00976562],\n",
       "       [6530.14013672],\n",
       "       [6453.72021484],\n",
       "       [6385.62011719],\n",
       "       [6409.22021484],\n",
       "       [6411.27001953],\n",
       "       [6371.27001953],\n",
       "       [6359.49023438],\n",
       "       [5738.35009766],\n",
       "       [5648.02978516],\n",
       "       [5575.54980469],\n",
       "       [5554.33007812],\n",
       "       [5623.54003906],\n",
       "       [4871.49023438],\n",
       "       [4451.87011719],\n",
       "       [4602.16992188],\n",
       "       [4365.93994141],\n",
       "       [4347.10986328],\n",
       "       [3880.76000977],\n",
       "       [4009.9699707 ],\n",
       "       [3779.12988281],\n",
       "       [3820.7199707 ],\n",
       "       [4257.41992188],\n",
       "       [4278.84667969],\n",
       "       [4017.26855469],\n",
       "       [4214.671875  ],\n",
       "       [4139.87792969],\n",
       "       [3894.13085938],\n",
       "       [3956.89379883],\n",
       "       [3753.99487305],\n",
       "       [3521.10180664],\n",
       "       [3419.93725586],\n",
       "       [3476.11474609],\n",
       "       [3614.234375  ],\n",
       "       [3502.65600586],\n",
       "       [3424.58813477],\n",
       "       [3486.95019531],\n",
       "       [3313.67724609],\n",
       "       [3242.48486328],\n",
       "       [3236.76171875],\n",
       "       [3252.83911133],\n",
       "       [3545.86474609],\n",
       "       [3696.05908203],\n",
       "       [3745.95068359],\n",
       "       [4134.44140625],\n",
       "       [3896.54370117],\n",
       "       [4014.18261719],\n",
       "       [3998.98022461],\n",
       "       [4078.59912109],\n",
       "       [3815.49072266],\n",
       "       [3857.29760742],\n",
       "       [3654.83349609],\n",
       "       [3923.91870117],\n",
       "       [3820.40869141],\n",
       "       [3865.95263672],\n",
       "       [3742.70043945],\n",
       "       [3843.52001953],\n",
       "       [3943.40942383],\n",
       "       [3836.74121094],\n",
       "       [3857.7175293 ],\n",
       "       [3845.19458008],\n",
       "       [4076.63256836],\n",
       "       [4025.24829102],\n",
       "       [4030.84790039],\n",
       "       [4035.29638672],\n",
       "       [3678.92456055],\n",
       "       [3687.36547852],\n",
       "       [3661.30102539],\n",
       "       [3552.953125  ],\n",
       "       [3706.05224609],\n",
       "       [3630.67529297],\n",
       "       [3655.00683594],\n",
       "       [3678.56396484],\n",
       "       [3657.83935547],\n",
       "       [3728.56835938],\n",
       "       [3601.01367188],\n",
       "       [3576.0324707 ],\n",
       "       [3604.57714844],\n",
       "       [3585.12304688],\n",
       "       [3600.86547852],\n",
       "       [3599.76586914],\n",
       "       [3602.46044922],\n",
       "       [3583.96582031],\n",
       "       [3470.45043945],\n",
       "       [3448.11694336]])"
      ]
     },
     "execution_count": 113,
     "metadata": {},
     "output_type": "execute_result"
    }
   ],
   "source": [
    "env.reset()"
   ]
  },
  {
   "cell_type": "code",
   "execution_count": 24,
   "metadata": {},
   "outputs": [
    {
     "data": {
      "text/plain": [
       "(100, 1)"
      ]
     },
     "execution_count": 24,
     "metadata": {},
     "output_type": "execute_result"
    }
   ],
   "source": [
    "env.observation_space.sample().shape"
   ]
  }
 ],
 "metadata": {
  "kernelspec": {
   "display_name": "Python 3",
   "language": "python",
   "name": "python3"
  },
  "language_info": {
   "codemirror_mode": {
    "name": "ipython",
    "version": 3
   },
   "file_extension": ".py",
   "mimetype": "text/x-python",
   "name": "python",
   "nbconvert_exporter": "python",
   "pygments_lexer": "ipython3",
   "version": "3.10.10"
  },
  "orig_nbformat": 4
 },
 "nbformat": 4,
 "nbformat_minor": 2
}
