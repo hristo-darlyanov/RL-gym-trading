{
 "cells": [
  {
   "cell_type": "code",
   "execution_count": 1,
   "metadata": {},
   "outputs": [],
   "source": [
    "#%pip install yfinance"
   ]
  },
  {
   "cell_type": "code",
   "execution_count": 1,
   "metadata": {},
   "outputs": [],
   "source": [
    "import requests\n",
    "import numpy as np\n",
    "import pandas as pd\n",
    "import yfinance as yf\n",
    "import random\n",
    "from gym import Env\n",
    "from gym.spaces import Discrete, Box\n",
    "import matplotlib.pyplot as plt"
   ]
  },
  {
   "cell_type": "code",
   "execution_count": 2,
   "metadata": {},
   "outputs": [],
   "source": [
    "def getTickerData(ticker, period, interval):\n",
    "    hist = yf.download(tickers = ticker, period=period, interval=interval)\n",
    "    df = pd.DataFrame(hist)\n",
    "    df = df.reset_index()\n",
    "    return df"
   ]
  },
  {
   "cell_type": "code",
   "execution_count": 3,
   "metadata": {},
   "outputs": [
    {
     "name": "stdout",
     "output_type": "stream",
     "text": [
      "[*********************100%***********************]  1 of 1 completed\n"
     ]
    },
    {
     "data": {
      "text/html": [
       "<div>\n",
       "<style scoped>\n",
       "    .dataframe tbody tr th:only-of-type {\n",
       "        vertical-align: middle;\n",
       "    }\n",
       "\n",
       "    .dataframe tbody tr th {\n",
       "        vertical-align: top;\n",
       "    }\n",
       "\n",
       "    .dataframe thead th {\n",
       "        text-align: right;\n",
       "    }\n",
       "</style>\n",
       "<table border=\"1\" class=\"dataframe\">\n",
       "  <thead>\n",
       "    <tr style=\"text-align: right;\">\n",
       "      <th></th>\n",
       "      <th>date</th>\n",
       "      <th>close</th>\n",
       "    </tr>\n",
       "  </thead>\n",
       "  <tbody>\n",
       "    <tr>\n",
       "      <th>0</th>\n",
       "      <td>2014-09-17</td>\n",
       "      <td>457.334015</td>\n",
       "    </tr>\n",
       "    <tr>\n",
       "      <th>1</th>\n",
       "      <td>2014-09-18</td>\n",
       "      <td>424.440002</td>\n",
       "    </tr>\n",
       "    <tr>\n",
       "      <th>2</th>\n",
       "      <td>2014-09-19</td>\n",
       "      <td>394.795990</td>\n",
       "    </tr>\n",
       "    <tr>\n",
       "      <th>3</th>\n",
       "      <td>2014-09-20</td>\n",
       "      <td>408.903992</td>\n",
       "    </tr>\n",
       "    <tr>\n",
       "      <th>4</th>\n",
       "      <td>2014-09-21</td>\n",
       "      <td>398.821014</td>\n",
       "    </tr>\n",
       "    <tr>\n",
       "      <th>...</th>\n",
       "      <td>...</td>\n",
       "      <td>...</td>\n",
       "    </tr>\n",
       "    <tr>\n",
       "      <th>3140</th>\n",
       "      <td>2023-04-23</td>\n",
       "      <td>27591.384766</td>\n",
       "    </tr>\n",
       "    <tr>\n",
       "      <th>3141</th>\n",
       "      <td>2023-04-24</td>\n",
       "      <td>27525.339844</td>\n",
       "    </tr>\n",
       "    <tr>\n",
       "      <th>3142</th>\n",
       "      <td>2023-04-25</td>\n",
       "      <td>28307.597656</td>\n",
       "    </tr>\n",
       "    <tr>\n",
       "      <th>3143</th>\n",
       "      <td>2023-04-26</td>\n",
       "      <td>28422.701172</td>\n",
       "    </tr>\n",
       "    <tr>\n",
       "      <th>3144</th>\n",
       "      <td>2023-04-27</td>\n",
       "      <td>29090.429688</td>\n",
       "    </tr>\n",
       "  </tbody>\n",
       "</table>\n",
       "<p>3145 rows × 2 columns</p>\n",
       "</div>"
      ],
      "text/plain": [
       "           date         close\n",
       "0    2014-09-17    457.334015\n",
       "1    2014-09-18    424.440002\n",
       "2    2014-09-19    394.795990\n",
       "3    2014-09-20    408.903992\n",
       "4    2014-09-21    398.821014\n",
       "...         ...           ...\n",
       "3140 2023-04-23  27591.384766\n",
       "3141 2023-04-24  27525.339844\n",
       "3142 2023-04-25  28307.597656\n",
       "3143 2023-04-26  28422.701172\n",
       "3144 2023-04-27  29090.429688\n",
       "\n",
       "[3145 rows x 2 columns]"
      ]
     },
     "execution_count": 3,
     "metadata": {},
     "output_type": "execute_result"
    }
   ],
   "source": [
    "df = getTickerData('btc-usd', 'max', '1d')\n",
    "df = df.drop(columns={'Volume', 'Adj Close', 'Open', 'High', 'Low'})\n",
    "df = df.rename(columns={'Close': 'close', 'Date': 'date'})\n",
    "df['date'] = pd.to_datetime(df['date'])\n",
    "df"
   ]
  },
  {
   "cell_type": "code",
   "execution_count": 4,
   "metadata": {},
   "outputs": [
    {
     "data": {
      "text/plain": [
       "3096"
      ]
     },
     "execution_count": 4,
     "metadata": {},
     "output_type": "execute_result"
    }
   ],
   "source": [
    "rn = random.randint(0, df.value_counts().sum())\n",
    "i=0\n",
    "df.shape[0] - rn"
   ]
  },
  {
   "cell_type": "code",
   "execution_count": 5,
   "metadata": {},
   "outputs": [
    {
     "name": "stdout",
     "output_type": "stream",
     "text": [
      "366.92401123046875\n"
     ]
    },
    {
     "data": {
      "text/html": [
       "<div>\n",
       "<style scoped>\n",
       "    .dataframe tbody tr th:only-of-type {\n",
       "        vertical-align: middle;\n",
       "    }\n",
       "\n",
       "    .dataframe tbody tr th {\n",
       "        vertical-align: top;\n",
       "    }\n",
       "\n",
       "    .dataframe thead th {\n",
       "        text-align: right;\n",
       "    }\n",
       "</style>\n",
       "<table border=\"1\" class=\"dataframe\">\n",
       "  <thead>\n",
       "    <tr style=\"text-align: right;\">\n",
       "      <th></th>\n",
       "      <th>date</th>\n",
       "      <th>close</th>\n",
       "    </tr>\n",
       "  </thead>\n",
       "  <tbody>\n",
       "    <tr>\n",
       "      <th>49</th>\n",
       "      <td>2014-11-05</td>\n",
       "      <td>339.485992</td>\n",
       "    </tr>\n",
       "    <tr>\n",
       "      <th>50</th>\n",
       "      <td>2014-11-06</td>\n",
       "      <td>349.290009</td>\n",
       "    </tr>\n",
       "    <tr>\n",
       "      <th>51</th>\n",
       "      <td>2014-11-07</td>\n",
       "      <td>342.415009</td>\n",
       "    </tr>\n",
       "    <tr>\n",
       "      <th>52</th>\n",
       "      <td>2014-11-08</td>\n",
       "      <td>345.488007</td>\n",
       "    </tr>\n",
       "    <tr>\n",
       "      <th>53</th>\n",
       "      <td>2014-11-09</td>\n",
       "      <td>363.264008</td>\n",
       "    </tr>\n",
       "  </tbody>\n",
       "</table>\n",
       "</div>"
      ],
      "text/plain": [
       "         date       close\n",
       "49 2014-11-05  339.485992\n",
       "50 2014-11-06  349.290009\n",
       "51 2014-11-07  342.415009\n",
       "52 2014-11-08  345.488007\n",
       "53 2014-11-09  363.264008"
      ]
     },
     "execution_count": 5,
     "metadata": {},
     "output_type": "execute_result"
    },
    {
     "data": {
      "image/png": "[encoded data removed]",
      "text/plain": [
       "<Figure size 640x480 with 1 Axes>"
      ]
     },
     "metadata": {},
     "output_type": "display_data"
    }
   ],
   "source": [
    "df2 = df.iloc[rn+i:rn+5+i,:]\n",
    "final_value = df.iloc[rn+5+i]['close']\n",
    "close_value = df.iloc[rn+4+i]['close']\n",
    "plt.plot(df2['date'], df2['close'])\n",
    "print(final_value)\n",
    "i+=1\n",
    "df2"
   ]
  },
  {
   "cell_type": "code",
   "execution_count": 148,
   "metadata": {},
   "outputs": [],
   "source": [
    "class TradingEnv(Env):\n",
    "    def __init__(self, df, n_steps, window_size) -> None:\n",
    "        super().__init__()\n",
    "        self.df = df.drop(columns={'date'})\n",
    "        self.window_size = window_size\n",
    "        self.observation_space = Box(low=-np.inf, high=np.inf, shape=(window_size, self.df.shape[1]))\n",
    "        self.action_space = Discrete(2)\n",
    "        self.done = None\n",
    "        \n",
    "        self.current_step = 0\n",
    "        self.n_steps = n_steps\n",
    "        self.random_index = random.randint(0, df.value_counts().sum())\n",
    "        \n",
    "        self.final_value = df.iloc[self.random_index+self.window_size+self.current_step]['close']\n",
    "        self.next_value = df.iloc[self.random_index+self.window_size+self.current_step+1]['close']\n",
    "        \n",
    "        self.long_pos = []\n",
    "        self.short_pos = []\n",
    "        \n",
    "    def step(self, action):\n",
    "        if action == 0:\n",
    "            self.short_pos.append(1)\n",
    "            self.long_pos.append(0)\n",
    "            if self.next_value < self.final_value:\n",
    "                reward = 10\n",
    "            else:\n",
    "                reward = -100\n",
    "        else:\n",
    "            self.short_pos.append(0)\n",
    "            self.long_pos.append(1)\n",
    "            if self.next_value > self.final_value:\n",
    "                reward = 10\n",
    "            else:\n",
    "                reward = -100\n",
    "        \n",
    "        self.final_value = df.iloc[self.random_index+self.window_size+self.current_step]['close']\n",
    "        self.next_value = df.iloc[self.random_index+self.window_size+self.current_step+1]['close']\n",
    "        self.current_step += 1\n",
    "        \n",
    "        if self.current_step > self.n_steps:\n",
    "            done = True\n",
    "        else:\n",
    "            done = False\n",
    "        \n",
    "        observation = self.get_observation()\n",
    "        info = {}\n",
    "        \n",
    "        return observation, reward, done, info\n",
    "        \n",
    "    def reset(self):\n",
    "        self.random_index = random.randint(0, df.value_counts().sum())\n",
    "        self.done = False\n",
    "        self.current_step = 0\n",
    "        return self.get_observation(is_random=True)\n",
    "    \n",
    "    def get_observation(self, is_random=False):\n",
    "        needed_space = self.window_size + self.n_steps\n",
    "        if is_random:\n",
    "            self.random_index = random.randint(0, df.value_counts().sum())\n",
    "            if df.shape[0] - self.random_index < needed_space:\n",
    "                self.random_index = df.shape[0] - needed_space\n",
    "        return self.df.iloc[self.random_index+self.current_step:self.random_index+self.window_size+self.current_step, :].values\n",
    "    \n",
    "    def close():\n",
    "        pass\n",
    "    \n",
    "    def render():\n",
    "        pass\n",
    "    \n",
    "    def render_final():\n",
    "        pass"
   ]
  },
  {
   "cell_type": "code",
   "execution_count": 149,
   "metadata": {},
   "outputs": [],
   "source": [
    "env = TradingEnv(df, window_size=90, n_steps=20)"
   ]
  },
  {
   "cell_type": "code",
   "execution_count": 152,
   "metadata": {},
   "outputs": [
    {
     "name": "stdout",
     "output_type": "stream",
     "text": [
      "413.7550048828125\n",
      "413.3070068359375\n"
     ]
    },
    {
     "data": {
      "image/png": "[encoded data removed]",
      "text/plain": [
       "<Figure size 640x480 with 1 Axes>"
      ]
     },
     "metadata": {},
     "output_type": "display_data"
    }
   ],
   "source": [
    "#env.reset()\n",
    "obs, reward, done, info = env.step(0)\n",
    "plt.plot(obs)\n",
    "print(env.final_value)\n",
    "print(env.next_value)"
   ]
  },
  {
   "cell_type": "code",
   "execution_count": 153,
   "metadata": {},
   "outputs": [
    {
     "data": {
      "text/plain": [
       "array([[436.57199097],\n",
       "       [442.40100098],\n",
       "       [454.98498535],\n",
       "       [455.65301514],\n",
       "       [417.27398682],\n",
       "       [422.82299805],\n",
       "       [422.2789917 ],\n",
       "       [432.98300171],\n",
       "       [426.61999512],\n",
       "       [430.56698608],\n",
       "       [434.33401489],\n",
       "       [433.43798828],\n",
       "       [430.01098633],\n",
       "       [433.09100342],\n",
       "       [431.95999146],\n",
       "       [429.10501099],\n",
       "       [458.04800415],\n",
       "       [453.23001099],\n",
       "       [447.61099243],\n",
       "       [447.99099731],\n",
       "       [448.42800903],\n",
       "       [435.69000244],\n",
       "       [432.3710022 ],\n",
       "       [430.30599976],\n",
       "       [364.33099365],\n",
       "       [387.53601074],\n",
       "       [382.29901123],\n",
       "       [387.16799927],\n",
       "       [380.14898682],\n",
       "       [420.23001099],\n",
       "       [410.26199341],\n",
       "       [382.49200439],\n",
       "       [387.49099731],\n",
       "       [402.9710083 ],\n",
       "       [391.72601318],\n",
       "       [392.15301514],\n",
       "       [394.97198486],\n",
       "       [380.28900146],\n",
       "       [379.47399902],\n",
       "       [378.25500488],\n",
       "       [368.76699829],\n",
       "       [373.05599976],\n",
       "       [374.44799805],\n",
       "       [369.94900513],\n",
       "       [389.59399414],\n",
       "       [386.54901123],\n",
       "       [376.52200317],\n",
       "       [376.61999512],\n",
       "       [373.44699097],\n",
       "       [376.0289917 ],\n",
       "       [381.64898682],\n",
       "       [379.6539917 ],\n",
       "       [384.26300049],\n",
       "       [391.85998535],\n",
       "       [407.23001099],\n",
       "       [400.18499756],\n",
       "       [407.48800659],\n",
       "       [416.32199097],\n",
       "       [422.37298584],\n",
       "       [420.78500366],\n",
       "       [437.16400146],\n",
       "       [438.79800415],\n",
       "       [437.74798584],\n",
       "       [420.73599243],\n",
       "       [424.95498657],\n",
       "       [424.54400635],\n",
       "       [432.15200806],\n",
       "       [432.51901245],\n",
       "       [433.5039978 ],\n",
       "       [437.69699097],\n",
       "       [435.12298584],\n",
       "       [423.98901367],\n",
       "       [421.65100098],\n",
       "       [410.93899536],\n",
       "       [400.57000732],\n",
       "       [407.70700073],\n",
       "       [414.3210144 ],\n",
       "       [413.97198486],\n",
       "       [414.85998535],\n",
       "       [417.13101196],\n",
       "       [421.69000244],\n",
       "       [411.62399292],\n",
       "       [414.06500244],\n",
       "       [416.43798828],\n",
       "       [416.82998657],\n",
       "       [417.01098633],\n",
       "       [420.6210022 ],\n",
       "       [409.54800415],\n",
       "       [410.44400024],\n",
       "       [413.75500488]])"
      ]
     },
     "execution_count": 153,
     "metadata": {},
     "output_type": "execute_result"
    }
   ],
   "source": [
    "env.get_observation()"
   ]
  },
  {
   "cell_type": "code",
   "execution_count": 45,
   "metadata": {},
   "outputs": [
    {
     "name": "stdout",
     "output_type": "stream",
     "text": [
      "episode - 1 || score - -1220\n",
      "episode - 2 || score - -670\n",
      "episode - 3 || score - -780\n",
      "episode - 4 || score - -780\n",
      "episode - 5 || score - -670\n",
      "episode - 6 || score - -780\n",
      "episode - 7 || score - -1440\n",
      "episode - 8 || score - -1220\n",
      "episode - 9 || score - -1110\n",
      "episode - 10 || score - -780\n"
     ]
    }
   ],
   "source": [
    "episodes = 10\n",
    "for n in range(1, episodes+1):\n",
    "    obs = env.reset()\n",
    "    done = False\n",
    "    score = 0\n",
    "    while not done:\n",
    "        action = env.action_space.sample()\n",
    "        obs, reward, done, info = env.step(action)\n",
    "        score += reward\n",
    "    print(f'episode - {n} || score - {score}')"
   ]
  }
 ],
 "metadata": {
  "kernelspec": {
   "display_name": "Python 3",
   "language": "python",
   "name": "python3"
  },
  "language_info": {
   "codemirror_mode": {
    "name": "ipython",
    "version": 3
   },
   "file_extension": ".py",
   "mimetype": "text/x-python",
   "name": "python",
   "nbconvert_exporter": "python",
   "pygments_lexer": "ipython3",
   "version": "3.10.10"
  },
  "orig_nbformat": 4
 },
 "nbformat": 4,
 "nbformat_minor": 2
}
